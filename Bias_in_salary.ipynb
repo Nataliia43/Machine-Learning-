{
  "nbformat": 4,
  "nbformat_minor": 0,
  "metadata": {
    "colab": {
      "provenance": [],
      "authorship_tag": "ABX9TyP6nIOEAH5J7EJehPm/YjBX",
      "include_colab_link": true
    },
    "kernelspec": {
      "name": "python3",
      "display_name": "Python 3"
    },
    "language_info": {
      "name": "python"
    }
  },
  "cells": [
    {
      "cell_type": "markdown",
      "metadata": {
        "id": "view-in-github",
        "colab_type": "text"
      },
      "source": [
        "<a href=\"https://colab.research.google.com/github/SmurferUA/Machine-Learning-/blob/main/Bias_in_salary.ipynb\" target=\"_parent\"><img src=\"https://colab.research.google.com/assets/colab-badge.svg\" alt=\"Open In Colab\"/></a>"
      ]
    },
    {
      "cell_type": "markdown",
      "source": [
        "Bias in salary allocation, created by Nataliia."
      ],
      "metadata": {
        "id": "S1xBGI2eaRDE"
      }
    },
    {
      "cell_type": "code",
      "execution_count": null,
      "metadata": {
        "id": "IrhY6BWsrYpu"
      },
      "outputs": [],
      "source": [
        "# import all packages\n",
        "import pandas as pd\n",
        "import numpy as np\n",
        "import matplotlib.pyplot as plt\n",
        "from sklearn.preprocessing import LabelEncoder\n",
        "import seaborn as sns\n",
        "from sklearn.model_selection import train_test_split\n",
        "from sklearn.ensemble import RandomForestClassifier\n",
        "from sklearn.metrics import classification_report\n",
        "from sklearn import metrics"
      ]
    },
    {
      "cell_type": "code",
      "source": [
        "# load the data\n",
        "data = pd.read_csv('Salary.csv')\n",
        "data.head()"
      ],
      "metadata": {
        "colab": {
          "base_uri": "https://localhost:8080/",
          "height": 295
        },
        "id": "CmiobKcrr7Of",
        "outputId": "81fea524-f9ab-475c-c935-f3c9a85caf63"
      },
      "execution_count": null,
      "outputs": [
        {
          "output_type": "execute_result",
          "data": {
            "text/plain": [
              "    Age  Gender  Education Level          Job Title  Years of Experience  \\\n",
              "0  32.0    Male                1  Software Engineer                  5.0   \n",
              "1  28.0  Female                2       Data Analyst                  3.0   \n",
              "2  45.0    Male                3            Manager                 15.0   \n",
              "3  36.0  Female                1    Sales Associate                  7.0   \n",
              "4  52.0    Male                2           Director                 20.0   \n",
              "\n",
              "     Salary Country      Race  Senior  \n",
              "0   90000.0      UK     White       0  \n",
              "1   65000.0     USA  Hispanic       0  \n",
              "2  150000.0  Canada     White       1  \n",
              "3   60000.0     USA  Hispanic       0  \n",
              "4  200000.0     USA     Asian       0  "
            ],
            "text/html": [
              "\n",
              "  <div id=\"df-03f80cad-5b96-44e8-bbc3-c0c2348382b4\" class=\"colab-df-container\">\n",
              "    <div>\n",
              "<style scoped>\n",
              "    .dataframe tbody tr th:only-of-type {\n",
              "        vertical-align: middle;\n",
              "    }\n",
              "\n",
              "    .dataframe tbody tr th {\n",
              "        vertical-align: top;\n",
              "    }\n",
              "\n",
              "    .dataframe thead th {\n",
              "        text-align: right;\n",
              "    }\n",
              "</style>\n",
              "<table border=\"1\" class=\"dataframe\">\n",
              "  <thead>\n",
              "    <tr style=\"text-align: right;\">\n",
              "      <th></th>\n",
              "      <th>Age</th>\n",
              "      <th>Gender</th>\n",
              "      <th>Education Level</th>\n",
              "      <th>Job Title</th>\n",
              "      <th>Years of Experience</th>\n",
              "      <th>Salary</th>\n",
              "      <th>Country</th>\n",
              "      <th>Race</th>\n",
              "      <th>Senior</th>\n",
              "    </tr>\n",
              "  </thead>\n",
              "  <tbody>\n",
              "    <tr>\n",
              "      <th>0</th>\n",
              "      <td>32.0</td>\n",
              "      <td>Male</td>\n",
              "      <td>1</td>\n",
              "      <td>Software Engineer</td>\n",
              "      <td>5.0</td>\n",
              "      <td>90000.0</td>\n",
              "      <td>UK</td>\n",
              "      <td>White</td>\n",
              "      <td>0</td>\n",
              "    </tr>\n",
              "    <tr>\n",
              "      <th>1</th>\n",
              "      <td>28.0</td>\n",
              "      <td>Female</td>\n",
              "      <td>2</td>\n",
              "      <td>Data Analyst</td>\n",
              "      <td>3.0</td>\n",
              "      <td>65000.0</td>\n",
              "      <td>USA</td>\n",
              "      <td>Hispanic</td>\n",
              "      <td>0</td>\n",
              "    </tr>\n",
              "    <tr>\n",
              "      <th>2</th>\n",
              "      <td>45.0</td>\n",
              "      <td>Male</td>\n",
              "      <td>3</td>\n",
              "      <td>Manager</td>\n",
              "      <td>15.0</td>\n",
              "      <td>150000.0</td>\n",
              "      <td>Canada</td>\n",
              "      <td>White</td>\n",
              "      <td>1</td>\n",
              "    </tr>\n",
              "    <tr>\n",
              "      <th>3</th>\n",
              "      <td>36.0</td>\n",
              "      <td>Female</td>\n",
              "      <td>1</td>\n",
              "      <td>Sales Associate</td>\n",
              "      <td>7.0</td>\n",
              "      <td>60000.0</td>\n",
              "      <td>USA</td>\n",
              "      <td>Hispanic</td>\n",
              "      <td>0</td>\n",
              "    </tr>\n",
              "    <tr>\n",
              "      <th>4</th>\n",
              "      <td>52.0</td>\n",
              "      <td>Male</td>\n",
              "      <td>2</td>\n",
              "      <td>Director</td>\n",
              "      <td>20.0</td>\n",
              "      <td>200000.0</td>\n",
              "      <td>USA</td>\n",
              "      <td>Asian</td>\n",
              "      <td>0</td>\n",
              "    </tr>\n",
              "  </tbody>\n",
              "</table>\n",
              "</div>\n",
              "    <div class=\"colab-df-buttons\">\n",
              "\n",
              "  <div class=\"colab-df-container\">\n",
              "    <button class=\"colab-df-convert\" onclick=\"convertToInteractive('df-03f80cad-5b96-44e8-bbc3-c0c2348382b4')\"\n",
              "            title=\"Convert this dataframe to an interactive table.\"\n",
              "            style=\"display:none;\">\n",
              "\n",
              "  <svg xmlns=\"http://www.w3.org/2000/svg\" height=\"24px\" viewBox=\"0 -960 960 960\">\n",
              "    <path d=\"M120-120v-720h720v720H120Zm60-500h600v-160H180v160Zm220 220h160v-160H400v160Zm0 220h160v-160H400v160ZM180-400h160v-160H180v160Zm440 0h160v-160H620v160ZM180-180h160v-160H180v160Zm440 0h160v-160H620v160Z\"/>\n",
              "  </svg>\n",
              "    </button>\n",
              "\n",
              "  <style>\n",
              "    .colab-df-container {\n",
              "      display:flex;\n",
              "      gap: 12px;\n",
              "    }\n",
              "\n",
              "    .colab-df-convert {\n",
              "      background-color: #E8F0FE;\n",
              "      border: none;\n",
              "      border-radius: 50%;\n",
              "      cursor: pointer;\n",
              "      display: none;\n",
              "      fill: #1967D2;\n",
              "      height: 32px;\n",
              "      padding: 0 0 0 0;\n",
              "      width: 32px;\n",
              "    }\n",
              "\n",
              "    .colab-df-convert:hover {\n",
              "      background-color: #E2EBFA;\n",
              "      box-shadow: 0px 1px 2px rgba(60, 64, 67, 0.3), 0px 1px 3px 1px rgba(60, 64, 67, 0.15);\n",
              "      fill: #174EA6;\n",
              "    }\n",
              "\n",
              "    .colab-df-buttons div {\n",
              "      margin-bottom: 4px;\n",
              "    }\n",
              "\n",
              "    [theme=dark] .colab-df-convert {\n",
              "      background-color: #3B4455;\n",
              "      fill: #D2E3FC;\n",
              "    }\n",
              "\n",
              "    [theme=dark] .colab-df-convert:hover {\n",
              "      background-color: #434B5C;\n",
              "      box-shadow: 0px 1px 3px 1px rgba(0, 0, 0, 0.15);\n",
              "      filter: drop-shadow(0px 1px 2px rgba(0, 0, 0, 0.3));\n",
              "      fill: #FFFFFF;\n",
              "    }\n",
              "  </style>\n",
              "\n",
              "    <script>\n",
              "      const buttonEl =\n",
              "        document.querySelector('#df-03f80cad-5b96-44e8-bbc3-c0c2348382b4 button.colab-df-convert');\n",
              "      buttonEl.style.display =\n",
              "        google.colab.kernel.accessAllowed ? 'block' : 'none';\n",
              "\n",
              "      async function convertToInteractive(key) {\n",
              "        const element = document.querySelector('#df-03f80cad-5b96-44e8-bbc3-c0c2348382b4');\n",
              "        const dataTable =\n",
              "          await google.colab.kernel.invokeFunction('convertToInteractive',\n",
              "                                                    [key], {});\n",
              "        if (!dataTable) return;\n",
              "\n",
              "        const docLinkHtml = 'Like what you see? Visit the ' +\n",
              "          '<a target=\"_blank\" href=https://colab.research.google.com/notebooks/data_table.ipynb>data table notebook</a>'\n",
              "          + ' to learn more about interactive tables.';\n",
              "        element.innerHTML = '';\n",
              "        dataTable['output_type'] = 'display_data';\n",
              "        await google.colab.output.renderOutput(dataTable, element);\n",
              "        const docLink = document.createElement('div');\n",
              "        docLink.innerHTML = docLinkHtml;\n",
              "        element.appendChild(docLink);\n",
              "      }\n",
              "    </script>\n",
              "  </div>\n",
              "\n",
              "\n",
              "<div id=\"df-4a5f0e87-fe89-4d96-b2bd-d12e6d727709\">\n",
              "  <button class=\"colab-df-quickchart\" onclick=\"quickchart('df-4a5f0e87-fe89-4d96-b2bd-d12e6d727709')\"\n",
              "            title=\"Suggest charts\"\n",
              "            style=\"display:none;\">\n",
              "\n",
              "<svg xmlns=\"http://www.w3.org/2000/svg\" height=\"24px\"viewBox=\"0 0 24 24\"\n",
              "     width=\"24px\">\n",
              "    <g>\n",
              "        <path d=\"M19 3H5c-1.1 0-2 .9-2 2v14c0 1.1.9 2 2 2h14c1.1 0 2-.9 2-2V5c0-1.1-.9-2-2-2zM9 17H7v-7h2v7zm4 0h-2V7h2v10zm4 0h-2v-4h2v4z\"/>\n",
              "    </g>\n",
              "</svg>\n",
              "  </button>\n",
              "\n",
              "<style>\n",
              "  .colab-df-quickchart {\n",
              "      --bg-color: #E8F0FE;\n",
              "      --fill-color: #1967D2;\n",
              "      --hover-bg-color: #E2EBFA;\n",
              "      --hover-fill-color: #174EA6;\n",
              "      --disabled-fill-color: #AAA;\n",
              "      --disabled-bg-color: #DDD;\n",
              "  }\n",
              "\n",
              "  [theme=dark] .colab-df-quickchart {\n",
              "      --bg-color: #3B4455;\n",
              "      --fill-color: #D2E3FC;\n",
              "      --hover-bg-color: #434B5C;\n",
              "      --hover-fill-color: #FFFFFF;\n",
              "      --disabled-bg-color: #3B4455;\n",
              "      --disabled-fill-color: #666;\n",
              "  }\n",
              "\n",
              "  .colab-df-quickchart {\n",
              "    background-color: var(--bg-color);\n",
              "    border: none;\n",
              "    border-radius: 50%;\n",
              "    cursor: pointer;\n",
              "    display: none;\n",
              "    fill: var(--fill-color);\n",
              "    height: 32px;\n",
              "    padding: 0;\n",
              "    width: 32px;\n",
              "  }\n",
              "\n",
              "  .colab-df-quickchart:hover {\n",
              "    background-color: var(--hover-bg-color);\n",
              "    box-shadow: 0 1px 2px rgba(60, 64, 67, 0.3), 0 1px 3px 1px rgba(60, 64, 67, 0.15);\n",
              "    fill: var(--button-hover-fill-color);\n",
              "  }\n",
              "\n",
              "  .colab-df-quickchart-complete:disabled,\n",
              "  .colab-df-quickchart-complete:disabled:hover {\n",
              "    background-color: var(--disabled-bg-color);\n",
              "    fill: var(--disabled-fill-color);\n",
              "    box-shadow: none;\n",
              "  }\n",
              "\n",
              "  .colab-df-spinner {\n",
              "    border: 2px solid var(--fill-color);\n",
              "    border-color: transparent;\n",
              "    border-bottom-color: var(--fill-color);\n",
              "    animation:\n",
              "      spin 1s steps(1) infinite;\n",
              "  }\n",
              "\n",
              "  @keyframes spin {\n",
              "    0% {\n",
              "      border-color: transparent;\n",
              "      border-bottom-color: var(--fill-color);\n",
              "      border-left-color: var(--fill-color);\n",
              "    }\n",
              "    20% {\n",
              "      border-color: transparent;\n",
              "      border-left-color: var(--fill-color);\n",
              "      border-top-color: var(--fill-color);\n",
              "    }\n",
              "    30% {\n",
              "      border-color: transparent;\n",
              "      border-left-color: var(--fill-color);\n",
              "      border-top-color: var(--fill-color);\n",
              "      border-right-color: var(--fill-color);\n",
              "    }\n",
              "    40% {\n",
              "      border-color: transparent;\n",
              "      border-right-color: var(--fill-color);\n",
              "      border-top-color: var(--fill-color);\n",
              "    }\n",
              "    60% {\n",
              "      border-color: transparent;\n",
              "      border-right-color: var(--fill-color);\n",
              "    }\n",
              "    80% {\n",
              "      border-color: transparent;\n",
              "      border-right-color: var(--fill-color);\n",
              "      border-bottom-color: var(--fill-color);\n",
              "    }\n",
              "    90% {\n",
              "      border-color: transparent;\n",
              "      border-bottom-color: var(--fill-color);\n",
              "    }\n",
              "  }\n",
              "</style>\n",
              "\n",
              "  <script>\n",
              "    async function quickchart(key) {\n",
              "      const quickchartButtonEl =\n",
              "        document.querySelector('#' + key + ' button');\n",
              "      quickchartButtonEl.disabled = true;  // To prevent multiple clicks.\n",
              "      quickchartButtonEl.classList.add('colab-df-spinner');\n",
              "      try {\n",
              "        const charts = await google.colab.kernel.invokeFunction(\n",
              "            'suggestCharts', [key], {});\n",
              "      } catch (error) {\n",
              "        console.error('Error during call to suggestCharts:', error);\n",
              "      }\n",
              "      quickchartButtonEl.classList.remove('colab-df-spinner');\n",
              "      quickchartButtonEl.classList.add('colab-df-quickchart-complete');\n",
              "    }\n",
              "    (() => {\n",
              "      let quickchartButtonEl =\n",
              "        document.querySelector('#df-4a5f0e87-fe89-4d96-b2bd-d12e6d727709 button');\n",
              "      quickchartButtonEl.style.display =\n",
              "        google.colab.kernel.accessAllowed ? 'block' : 'none';\n",
              "    })();\n",
              "  </script>\n",
              "</div>\n",
              "    </div>\n",
              "  </div>\n"
            ],
            "application/vnd.google.colaboratory.intrinsic+json": {
              "type": "dataframe",
              "variable_name": "data",
              "summary": "{\n  \"name\": \"data\",\n  \"rows\": 6684,\n  \"fields\": [\n    {\n      \"column\": \"Age\",\n      \"properties\": {\n        \"dtype\": \"number\",\n        \"std\": 7.595994422793811,\n        \"min\": 21.0,\n        \"max\": 62.0,\n        \"num_unique_values\": 41,\n        \"samples\": [\n          24.0,\n          27.0,\n          26.0\n        ],\n        \"semantic_type\": \"\",\n        \"description\": \"\"\n      }\n    },\n    {\n      \"column\": \"Gender\",\n      \"properties\": {\n        \"dtype\": \"category\",\n        \"num_unique_values\": 2,\n        \"samples\": [\n          \"Female\",\n          \"Male\"\n        ],\n        \"semantic_type\": \"\",\n        \"description\": \"\"\n      }\n    },\n    {\n      \"column\": \"Education Level\",\n      \"properties\": {\n        \"dtype\": \"number\",\n        \"std\": 0,\n        \"min\": 0,\n        \"max\": 3,\n        \"num_unique_values\": 4,\n        \"samples\": [\n          2,\n          0\n        ],\n        \"semantic_type\": \"\",\n        \"description\": \"\"\n      }\n    },\n    {\n      \"column\": \"Job Title\",\n      \"properties\": {\n        \"dtype\": \"category\",\n        \"num_unique_values\": 129,\n        \"samples\": [\n          \"Director of Operations\",\n          \"Operations Director\"\n        ],\n        \"semantic_type\": \"\",\n        \"description\": \"\"\n      }\n    },\n    {\n      \"column\": \"Years of Experience\",\n      \"properties\": {\n        \"dtype\": \"number\",\n        \"std\": 6.029304874867893,\n        \"min\": 0.0,\n        \"max\": 34.0,\n        \"num_unique_values\": 37,\n        \"samples\": [\n          9.0,\n          16.0\n        ],\n        \"semantic_type\": \"\",\n        \"description\": \"\"\n      }\n    },\n    {\n      \"column\": \"Salary\",\n      \"properties\": {\n        \"dtype\": \"number\",\n        \"std\": 52806.81088115107,\n        \"min\": 350.0,\n        \"max\": 250000.0,\n        \"num_unique_values\": 437,\n        \"samples\": [\n          117000.0,\n          181714.0\n        ],\n        \"semantic_type\": \"\",\n        \"description\": \"\"\n      }\n    },\n    {\n      \"column\": \"Country\",\n      \"properties\": {\n        \"dtype\": \"category\",\n        \"num_unique_values\": 5,\n        \"samples\": [\n          \"USA\",\n          \"Australia\"\n        ],\n        \"semantic_type\": \"\",\n        \"description\": \"\"\n      }\n    },\n    {\n      \"column\": \"Race\",\n      \"properties\": {\n        \"dtype\": \"category\",\n        \"num_unique_values\": 10,\n        \"samples\": [\n          \"Mixed\",\n          \"Hispanic\"\n        ],\n        \"semantic_type\": \"\",\n        \"description\": \"\"\n      }\n    },\n    {\n      \"column\": \"Senior\",\n      \"properties\": {\n        \"dtype\": \"number\",\n        \"std\": 0,\n        \"min\": 0,\n        \"max\": 1,\n        \"num_unique_values\": 2,\n        \"samples\": [\n          1,\n          0\n        ],\n        \"semantic_type\": \"\",\n        \"description\": \"\"\n      }\n    }\n  ]\n}"
            }
          },
          "metadata": {},
          "execution_count": 2
        }
      ]
    },
    {
      "cell_type": "code",
      "source": [
        "#Exploring the data\n",
        "data.tail()\n",
        "data[\"Education Level\"].value_counts()"
      ],
      "metadata": {
        "id": "6TbuVNvt2OzY",
        "colab": {
          "base_uri": "https://localhost:8080/"
        },
        "outputId": "de05f68e-2012-45c9-bdc2-5d1e778ce6d9"
      },
      "execution_count": null,
      "outputs": [
        {
          "output_type": "execute_result",
          "data": {
            "text/plain": [
              "Education Level\n",
              "1    3021\n",
              "2    1858\n",
              "3    1369\n",
              "0     436\n",
              "Name: count, dtype: int64"
            ]
          },
          "metadata": {},
          "execution_count": 3
        }
      ]
    },
    {
      "cell_type": "code",
      "source": [
        "data.describe()"
      ],
      "metadata": {
        "colab": {
          "base_uri": "https://localhost:8080/",
          "height": 317
        },
        "id": "NU4lXhzmv1yu",
        "outputId": "0e7f7c45-da14-4c38-e654-5d36ec1eaa4f"
      },
      "execution_count": null,
      "outputs": [
        {
          "output_type": "execute_result",
          "data": {
            "text/plain": [
              "               Age  Education Level  Years of Experience         Salary  \\\n",
              "count  6684.000000      6684.000000          6684.000000    6684.000000   \n",
              "mean     33.610563         1.622382             8.077723  115307.175194   \n",
              "std       7.595994         0.880474             6.029305   52806.810881   \n",
              "min      21.000000         0.000000             0.000000     350.000000   \n",
              "25%      28.000000         1.000000             3.000000   70000.000000   \n",
              "50%      32.000000         1.000000             7.000000  115000.000000   \n",
              "75%      38.000000         2.000000            12.000000  160000.000000   \n",
              "max      62.000000         3.000000            34.000000  250000.000000   \n",
              "\n",
              "            Senior  \n",
              "count  6684.000000  \n",
              "mean      0.143477  \n",
              "std       0.350585  \n",
              "min       0.000000  \n",
              "25%       0.000000  \n",
              "50%       0.000000  \n",
              "75%       0.000000  \n",
              "max       1.000000  "
            ],
            "text/html": [
              "\n",
              "  <div id=\"df-8bbcf1c3-28eb-4cb3-928e-0bd5a45168e6\" class=\"colab-df-container\">\n",
              "    <div>\n",
              "<style scoped>\n",
              "    .dataframe tbody tr th:only-of-type {\n",
              "        vertical-align: middle;\n",
              "    }\n",
              "\n",
              "    .dataframe tbody tr th {\n",
              "        vertical-align: top;\n",
              "    }\n",
              "\n",
              "    .dataframe thead th {\n",
              "        text-align: right;\n",
              "    }\n",
              "</style>\n",
              "<table border=\"1\" class=\"dataframe\">\n",
              "  <thead>\n",
              "    <tr style=\"text-align: right;\">\n",
              "      <th></th>\n",
              "      <th>Age</th>\n",
              "      <th>Education Level</th>\n",
              "      <th>Years of Experience</th>\n",
              "      <th>Salary</th>\n",
              "      <th>Senior</th>\n",
              "    </tr>\n",
              "  </thead>\n",
              "  <tbody>\n",
              "    <tr>\n",
              "      <th>count</th>\n",
              "      <td>6684.000000</td>\n",
              "      <td>6684.000000</td>\n",
              "      <td>6684.000000</td>\n",
              "      <td>6684.000000</td>\n",
              "      <td>6684.000000</td>\n",
              "    </tr>\n",
              "    <tr>\n",
              "      <th>mean</th>\n",
              "      <td>33.610563</td>\n",
              "      <td>1.622382</td>\n",
              "      <td>8.077723</td>\n",
              "      <td>115307.175194</td>\n",
              "      <td>0.143477</td>\n",
              "    </tr>\n",
              "    <tr>\n",
              "      <th>std</th>\n",
              "      <td>7.595994</td>\n",
              "      <td>0.880474</td>\n",
              "      <td>6.029305</td>\n",
              "      <td>52806.810881</td>\n",
              "      <td>0.350585</td>\n",
              "    </tr>\n",
              "    <tr>\n",
              "      <th>min</th>\n",
              "      <td>21.000000</td>\n",
              "      <td>0.000000</td>\n",
              "      <td>0.000000</td>\n",
              "      <td>350.000000</td>\n",
              "      <td>0.000000</td>\n",
              "    </tr>\n",
              "    <tr>\n",
              "      <th>25%</th>\n",
              "      <td>28.000000</td>\n",
              "      <td>1.000000</td>\n",
              "      <td>3.000000</td>\n",
              "      <td>70000.000000</td>\n",
              "      <td>0.000000</td>\n",
              "    </tr>\n",
              "    <tr>\n",
              "      <th>50%</th>\n",
              "      <td>32.000000</td>\n",
              "      <td>1.000000</td>\n",
              "      <td>7.000000</td>\n",
              "      <td>115000.000000</td>\n",
              "      <td>0.000000</td>\n",
              "    </tr>\n",
              "    <tr>\n",
              "      <th>75%</th>\n",
              "      <td>38.000000</td>\n",
              "      <td>2.000000</td>\n",
              "      <td>12.000000</td>\n",
              "      <td>160000.000000</td>\n",
              "      <td>0.000000</td>\n",
              "    </tr>\n",
              "    <tr>\n",
              "      <th>max</th>\n",
              "      <td>62.000000</td>\n",
              "      <td>3.000000</td>\n",
              "      <td>34.000000</td>\n",
              "      <td>250000.000000</td>\n",
              "      <td>1.000000</td>\n",
              "    </tr>\n",
              "  </tbody>\n",
              "</table>\n",
              "</div>\n",
              "    <div class=\"colab-df-buttons\">\n",
              "\n",
              "  <div class=\"colab-df-container\">\n",
              "    <button class=\"colab-df-convert\" onclick=\"convertToInteractive('df-8bbcf1c3-28eb-4cb3-928e-0bd5a45168e6')\"\n",
              "            title=\"Convert this dataframe to an interactive table.\"\n",
              "            style=\"display:none;\">\n",
              "\n",
              "  <svg xmlns=\"http://www.w3.org/2000/svg\" height=\"24px\" viewBox=\"0 -960 960 960\">\n",
              "    <path d=\"M120-120v-720h720v720H120Zm60-500h600v-160H180v160Zm220 220h160v-160H400v160Zm0 220h160v-160H400v160ZM180-400h160v-160H180v160Zm440 0h160v-160H620v160ZM180-180h160v-160H180v160Zm440 0h160v-160H620v160Z\"/>\n",
              "  </svg>\n",
              "    </button>\n",
              "\n",
              "  <style>\n",
              "    .colab-df-container {\n",
              "      display:flex;\n",
              "      gap: 12px;\n",
              "    }\n",
              "\n",
              "    .colab-df-convert {\n",
              "      background-color: #E8F0FE;\n",
              "      border: none;\n",
              "      border-radius: 50%;\n",
              "      cursor: pointer;\n",
              "      display: none;\n",
              "      fill: #1967D2;\n",
              "      height: 32px;\n",
              "      padding: 0 0 0 0;\n",
              "      width: 32px;\n",
              "    }\n",
              "\n",
              "    .colab-df-convert:hover {\n",
              "      background-color: #E2EBFA;\n",
              "      box-shadow: 0px 1px 2px rgba(60, 64, 67, 0.3), 0px 1px 3px 1px rgba(60, 64, 67, 0.15);\n",
              "      fill: #174EA6;\n",
              "    }\n",
              "\n",
              "    .colab-df-buttons div {\n",
              "      margin-bottom: 4px;\n",
              "    }\n",
              "\n",
              "    [theme=dark] .colab-df-convert {\n",
              "      background-color: #3B4455;\n",
              "      fill: #D2E3FC;\n",
              "    }\n",
              "\n",
              "    [theme=dark] .colab-df-convert:hover {\n",
              "      background-color: #434B5C;\n",
              "      box-shadow: 0px 1px 3px 1px rgba(0, 0, 0, 0.15);\n",
              "      filter: drop-shadow(0px 1px 2px rgba(0, 0, 0, 0.3));\n",
              "      fill: #FFFFFF;\n",
              "    }\n",
              "  </style>\n",
              "\n",
              "    <script>\n",
              "      const buttonEl =\n",
              "        document.querySelector('#df-8bbcf1c3-28eb-4cb3-928e-0bd5a45168e6 button.colab-df-convert');\n",
              "      buttonEl.style.display =\n",
              "        google.colab.kernel.accessAllowed ? 'block' : 'none';\n",
              "\n",
              "      async function convertToInteractive(key) {\n",
              "        const element = document.querySelector('#df-8bbcf1c3-28eb-4cb3-928e-0bd5a45168e6');\n",
              "        const dataTable =\n",
              "          await google.colab.kernel.invokeFunction('convertToInteractive',\n",
              "                                                    [key], {});\n",
              "        if (!dataTable) return;\n",
              "\n",
              "        const docLinkHtml = 'Like what you see? Visit the ' +\n",
              "          '<a target=\"_blank\" href=https://colab.research.google.com/notebooks/data_table.ipynb>data table notebook</a>'\n",
              "          + ' to learn more about interactive tables.';\n",
              "        element.innerHTML = '';\n",
              "        dataTable['output_type'] = 'display_data';\n",
              "        await google.colab.output.renderOutput(dataTable, element);\n",
              "        const docLink = document.createElement('div');\n",
              "        docLink.innerHTML = docLinkHtml;\n",
              "        element.appendChild(docLink);\n",
              "      }\n",
              "    </script>\n",
              "  </div>\n",
              "\n",
              "\n",
              "<div id=\"df-88610e66-948c-41c6-81f3-b5859d641e1d\">\n",
              "  <button class=\"colab-df-quickchart\" onclick=\"quickchart('df-88610e66-948c-41c6-81f3-b5859d641e1d')\"\n",
              "            title=\"Suggest charts\"\n",
              "            style=\"display:none;\">\n",
              "\n",
              "<svg xmlns=\"http://www.w3.org/2000/svg\" height=\"24px\"viewBox=\"0 0 24 24\"\n",
              "     width=\"24px\">\n",
              "    <g>\n",
              "        <path d=\"M19 3H5c-1.1 0-2 .9-2 2v14c0 1.1.9 2 2 2h14c1.1 0 2-.9 2-2V5c0-1.1-.9-2-2-2zM9 17H7v-7h2v7zm4 0h-2V7h2v10zm4 0h-2v-4h2v4z\"/>\n",
              "    </g>\n",
              "</svg>\n",
              "  </button>\n",
              "\n",
              "<style>\n",
              "  .colab-df-quickchart {\n",
              "      --bg-color: #E8F0FE;\n",
              "      --fill-color: #1967D2;\n",
              "      --hover-bg-color: #E2EBFA;\n",
              "      --hover-fill-color: #174EA6;\n",
              "      --disabled-fill-color: #AAA;\n",
              "      --disabled-bg-color: #DDD;\n",
              "  }\n",
              "\n",
              "  [theme=dark] .colab-df-quickchart {\n",
              "      --bg-color: #3B4455;\n",
              "      --fill-color: #D2E3FC;\n",
              "      --hover-bg-color: #434B5C;\n",
              "      --hover-fill-color: #FFFFFF;\n",
              "      --disabled-bg-color: #3B4455;\n",
              "      --disabled-fill-color: #666;\n",
              "  }\n",
              "\n",
              "  .colab-df-quickchart {\n",
              "    background-color: var(--bg-color);\n",
              "    border: none;\n",
              "    border-radius: 50%;\n",
              "    cursor: pointer;\n",
              "    display: none;\n",
              "    fill: var(--fill-color);\n",
              "    height: 32px;\n",
              "    padding: 0;\n",
              "    width: 32px;\n",
              "  }\n",
              "\n",
              "  .colab-df-quickchart:hover {\n",
              "    background-color: var(--hover-bg-color);\n",
              "    box-shadow: 0 1px 2px rgba(60, 64, 67, 0.3), 0 1px 3px 1px rgba(60, 64, 67, 0.15);\n",
              "    fill: var(--button-hover-fill-color);\n",
              "  }\n",
              "\n",
              "  .colab-df-quickchart-complete:disabled,\n",
              "  .colab-df-quickchart-complete:disabled:hover {\n",
              "    background-color: var(--disabled-bg-color);\n",
              "    fill: var(--disabled-fill-color);\n",
              "    box-shadow: none;\n",
              "  }\n",
              "\n",
              "  .colab-df-spinner {\n",
              "    border: 2px solid var(--fill-color);\n",
              "    border-color: transparent;\n",
              "    border-bottom-color: var(--fill-color);\n",
              "    animation:\n",
              "      spin 1s steps(1) infinite;\n",
              "  }\n",
              "\n",
              "  @keyframes spin {\n",
              "    0% {\n",
              "      border-color: transparent;\n",
              "      border-bottom-color: var(--fill-color);\n",
              "      border-left-color: var(--fill-color);\n",
              "    }\n",
              "    20% {\n",
              "      border-color: transparent;\n",
              "      border-left-color: var(--fill-color);\n",
              "      border-top-color: var(--fill-color);\n",
              "    }\n",
              "    30% {\n",
              "      border-color: transparent;\n",
              "      border-left-color: var(--fill-color);\n",
              "      border-top-color: var(--fill-color);\n",
              "      border-right-color: var(--fill-color);\n",
              "    }\n",
              "    40% {\n",
              "      border-color: transparent;\n",
              "      border-right-color: var(--fill-color);\n",
              "      border-top-color: var(--fill-color);\n",
              "    }\n",
              "    60% {\n",
              "      border-color: transparent;\n",
              "      border-right-color: var(--fill-color);\n",
              "    }\n",
              "    80% {\n",
              "      border-color: transparent;\n",
              "      border-right-color: var(--fill-color);\n",
              "      border-bottom-color: var(--fill-color);\n",
              "    }\n",
              "    90% {\n",
              "      border-color: transparent;\n",
              "      border-bottom-color: var(--fill-color);\n",
              "    }\n",
              "  }\n",
              "</style>\n",
              "\n",
              "  <script>\n",
              "    async function quickchart(key) {\n",
              "      const quickchartButtonEl =\n",
              "        document.querySelector('#' + key + ' button');\n",
              "      quickchartButtonEl.disabled = true;  // To prevent multiple clicks.\n",
              "      quickchartButtonEl.classList.add('colab-df-spinner');\n",
              "      try {\n",
              "        const charts = await google.colab.kernel.invokeFunction(\n",
              "            'suggestCharts', [key], {});\n",
              "      } catch (error) {\n",
              "        console.error('Error during call to suggestCharts:', error);\n",
              "      }\n",
              "      quickchartButtonEl.classList.remove('colab-df-spinner');\n",
              "      quickchartButtonEl.classList.add('colab-df-quickchart-complete');\n",
              "    }\n",
              "    (() => {\n",
              "      let quickchartButtonEl =\n",
              "        document.querySelector('#df-88610e66-948c-41c6-81f3-b5859d641e1d button');\n",
              "      quickchartButtonEl.style.display =\n",
              "        google.colab.kernel.accessAllowed ? 'block' : 'none';\n",
              "    })();\n",
              "  </script>\n",
              "</div>\n",
              "    </div>\n",
              "  </div>\n"
            ],
            "application/vnd.google.colaboratory.intrinsic+json": {
              "type": "dataframe",
              "summary": "{\n  \"name\": \"data\",\n  \"rows\": 8,\n  \"fields\": [\n    {\n      \"column\": \"Age\",\n      \"properties\": {\n        \"dtype\": \"number\",\n        \"std\": 2351.978475457884,\n        \"min\": 7.595994422793811,\n        \"max\": 6684.0,\n        \"num_unique_values\": 8,\n        \"samples\": [\n          33.61056253740275,\n          32.0,\n          6684.0\n        ],\n        \"semantic_type\": \"\",\n        \"description\": \"\"\n      }\n    },\n    {\n      \"column\": \"Education Level\",\n      \"properties\": {\n        \"dtype\": \"number\",\n        \"std\": 2362.6710625084766,\n        \"min\": 0.0,\n        \"max\": 6684.0,\n        \"num_unique_values\": 7,\n        \"samples\": [\n          6684.0,\n          1.6223818073010174,\n          2.0\n        ],\n        \"semantic_type\": \"\",\n        \"description\": \"\"\n      }\n    },\n    {\n      \"column\": \"Years of Experience\",\n      \"properties\": {\n        \"dtype\": \"number\",\n        \"std\": 2359.632852320785,\n        \"min\": 0.0,\n        \"max\": 6684.0,\n        \"num_unique_values\": 8,\n        \"samples\": [\n          8.077722920406941,\n          7.0,\n          6684.0\n        ],\n        \"semantic_type\": \"\",\n        \"description\": \"\"\n      }\n    },\n    {\n      \"column\": \"Salary\",\n      \"properties\": {\n        \"dtype\": \"number\",\n        \"std\": 82991.49029158257,\n        \"min\": 350.0,\n        \"max\": 250000.0,\n        \"num_unique_values\": 8,\n        \"samples\": [\n          115307.17519449431,\n          115000.0,\n          6684.0\n        ],\n        \"semantic_type\": \"\",\n        \"description\": \"\"\n      }\n    },\n    {\n      \"column\": \"Senior\",\n      \"properties\": {\n        \"dtype\": \"number\",\n        \"std\": 2363.075426135751,\n        \"min\": 0.0,\n        \"max\": 6684.0,\n        \"num_unique_values\": 5,\n        \"samples\": [\n          0.14347695990424894,\n          1.0,\n          0.35058481217386284\n        ],\n        \"semantic_type\": \"\",\n        \"description\": \"\"\n      }\n    }\n  ]\n}"
            }
          },
          "metadata": {},
          "execution_count": 4
        }
      ]
    },
    {
      "cell_type": "code",
      "source": [
        "data.shape"
      ],
      "metadata": {
        "colab": {
          "base_uri": "https://localhost:8080/"
        },
        "id": "l-phxGC2i7DB",
        "outputId": "ad1614a3-24eb-4d60-d234-28673b1f9467"
      },
      "execution_count": null,
      "outputs": [
        {
          "output_type": "execute_result",
          "data": {
            "text/plain": [
              "(6684, 9)"
            ]
          },
          "metadata": {},
          "execution_count": 5
        }
      ]
    },
    {
      "cell_type": "code",
      "source": [
        "#check for null values\n",
        "data.isnull().sum()"
      ],
      "metadata": {
        "id": "aPbOz44xxCdW",
        "colab": {
          "base_uri": "https://localhost:8080/"
        },
        "outputId": "62504e38-177f-48aa-b92f-9a1634e4f7e1"
      },
      "execution_count": null,
      "outputs": [
        {
          "output_type": "execute_result",
          "data": {
            "text/plain": [
              "Age                    0\n",
              "Gender                 0\n",
              "Education Level        0\n",
              "Job Title              0\n",
              "Years of Experience    0\n",
              "Salary                 0\n",
              "Country                0\n",
              "Race                   0\n",
              "Senior                 0\n",
              "dtype: int64"
            ]
          },
          "metadata": {},
          "execution_count": 6
        }
      ]
    },
    {
      "cell_type": "code",
      "source": [
        "# check for duplicates and print them\n",
        "duplicate = data[data.duplicated()]\n",
        "print(duplicate)"
      ],
      "metadata": {
        "id": "fyAebjFP338J",
        "colab": {
          "base_uri": "https://localhost:8080/"
        },
        "outputId": "025a122d-285e-4e54-c5f5-7eacce4d2b6b"
      },
      "execution_count": null,
      "outputs": [
        {
          "output_type": "stream",
          "name": "stdout",
          "text": [
            "       Age  Gender  Education Level                       Job Title  \\\n",
            "252   28.0    Male                1  Business Development Associate   \n",
            "308   29.0  Female                1  Business Development Associate   \n",
            "343   33.0    Male                1                Business Analyst   \n",
            "372   44.0  Female                3                Business Analyst   \n",
            "390   31.0  Female                1               Software Engineer   \n",
            "...    ...     ...              ...                             ...   \n",
            "6663  51.0  Female                2       Content Marketing Manager   \n",
            "6664  37.0    Male                1                  Sales Director   \n",
            "6672  24.0    Male                1                 Sales Executive   \n",
            "6677  51.0  Female                2       Product Marketing Manager   \n",
            "6683  26.0  Female                0                 Sales Executive   \n",
            "\n",
            "      Years of Experience    Salary    Country     Race  Senior  \n",
            "252                   2.0   40000.0        USA    Asian       0  \n",
            "308                   1.5   35000.0  Australia    White       0  \n",
            "343                   4.0   60000.0     Canada    Black       0  \n",
            "372                  15.0  150000.0         UK    White       1  \n",
            "390                   6.0  155000.0         UK    Welsh       0  \n",
            "...                   ...       ...        ...      ...     ...  \n",
            "6663                 19.0  190000.0         UK    White       0  \n",
            "6664                  7.0   90000.0      China  Chinese       0  \n",
            "6672                  1.0   35000.0     Canada    Asian       0  \n",
            "6677                 19.0  190000.0         UK    White       1  \n",
            "6683                  1.0   35000.0     Canada    Black       0  \n",
            "\n",
            "[1536 rows x 9 columns]\n"
          ]
        }
      ]
    },
    {
      "cell_type": "code",
      "source": [
        "# Drop duplicates\n",
        "data=data.drop_duplicates()"
      ],
      "metadata": {
        "id": "B-iJJJi1_2j3"
      },
      "execution_count": null,
      "outputs": []
    },
    {
      "cell_type": "code",
      "source": [
        "# confirm that all duplicates are dropped\n",
        "duplicate = data[data.duplicated()]\n",
        "print(duplicate)"
      ],
      "metadata": {
        "colab": {
          "base_uri": "https://localhost:8080/"
        },
        "id": "FYaZF6Rgwzn-",
        "outputId": "8dc1aba6-88cf-4a67-8ace-5a2e13ad6de1"
      },
      "execution_count": null,
      "outputs": [
        {
          "output_type": "stream",
          "name": "stdout",
          "text": [
            "Empty DataFrame\n",
            "Columns: [Age, Gender, Education Level, Job Title, Years of Experience, Salary, Country, Race, Senior]\n",
            "Index: []\n"
          ]
        }
      ]
    },
    {
      "cell_type": "code",
      "source": [
        "data.dtypes"
      ],
      "metadata": {
        "id": "ypifvaHnByJN",
        "colab": {
          "base_uri": "https://localhost:8080/"
        },
        "outputId": "d3a42878-42cd-478f-d300-17e7eea71be2"
      },
      "execution_count": null,
      "outputs": [
        {
          "output_type": "execute_result",
          "data": {
            "text/plain": [
              "Age                    float64\n",
              "Gender                  object\n",
              "Education Level          int64\n",
              "Job Title               object\n",
              "Years of Experience    float64\n",
              "Salary                 float64\n",
              "Country                 object\n",
              "Race                    object\n",
              "Senior                   int64\n",
              "dtype: object"
            ]
          },
          "metadata": {},
          "execution_count": 11
        }
      ]
    },
    {
      "cell_type": "code",
      "source": [
        "# encouding Age , Years of Experience, Salary\n",
        "data[\"Age\"] = data[\"Age\"].astype(int)\n",
        "data['Years of Experience']=data['Years of Experience'].astype(int)\n",
        "data['Salary']= data['Salary'].astype(int)"
      ],
      "metadata": {
        "id": "KUOha6HoS5XT"
      },
      "execution_count": null,
      "outputs": []
    },
    {
      "cell_type": "code",
      "source": [
        "# unique gender value\n",
        "data[\"Gender\"].value_counts()"
      ],
      "metadata": {
        "colab": {
          "base_uri": "https://localhost:8080/"
        },
        "id": "m8UW1bbHjltd",
        "outputId": "c7242963-4f55-41c7-d094-958c1c2ecbcb"
      },
      "execution_count": null,
      "outputs": [
        {
          "output_type": "execute_result",
          "data": {
            "text/plain": [
              "Gender\n",
              "Male      2808\n",
              "Female    2340\n",
              "Name: count, dtype: int64"
            ]
          },
          "metadata": {},
          "execution_count": 13
        }
      ]
    },
    {
      "cell_type": "code",
      "source": [
        "# replace value( Female = 0, Male = 1 )\n",
        "data[\"Gender\"].replace({\"Male\":1,\"Female\":0}, inplace = True)"
      ],
      "metadata": {
        "id": "Kw4fSquGl8Ai"
      },
      "execution_count": null,
      "outputs": []
    },
    {
      "cell_type": "code",
      "source": [
        "#unique gender value\n",
        "data[\"Country\"].value_counts()"
      ],
      "metadata": {
        "colab": {
          "base_uri": "https://localhost:8080/"
        },
        "id": "PFk1tE258mcZ",
        "outputId": "fe7e1309-7f63-413d-c1de-853b46a70da1"
      },
      "execution_count": null,
      "outputs": [
        {
          "output_type": "execute_result",
          "data": {
            "text/plain": [
              "Country\n",
              "USA          1076\n",
              "UK           1056\n",
              "Australia    1021\n",
              "China        1009\n",
              "Canada        986\n",
              "Name: count, dtype: int64"
            ]
          },
          "metadata": {},
          "execution_count": 15
        }
      ]
    },
    {
      "cell_type": "code",
      "source": [
        "# replacing  values\n",
        "country = {\"USA\":1, \"UK\":2, \"Australia\":3, \"China\":4, \"Canada\":5}\n",
        "data[\"Country\"]= data[\"Country\"].replace(country)\n",
        "data[\"Country\"]= data[\"Country\"].astype(int)\n"
      ],
      "metadata": {
        "id": "ikuw3nri8mFd"
      },
      "execution_count": null,
      "outputs": []
    },
    {
      "cell_type": "code",
      "source": [
        "\n",
        "data[\"Race\"].value_counts()"
      ],
      "metadata": {
        "colab": {
          "base_uri": "https://localhost:8080/"
        },
        "id": "uaG2AiAAj23i",
        "outputId": "bc65086e-6110-43b8-d4dc-062f1ec0abfd"
      },
      "execution_count": null,
      "outputs": [
        {
          "output_type": "execute_result",
          "data": {
            "text/plain": [
              "Race\n",
              "White               1514\n",
              "Asian               1223\n",
              "Australian           358\n",
              "Korean               339\n",
              "Chinese              332\n",
              "Black                328\n",
              "African American     266\n",
              "Welsh                265\n",
              "Hispanic             262\n",
              "Mixed                261\n",
              "Name: count, dtype: int64"
            ]
          },
          "metadata": {},
          "execution_count": 17
        }
      ]
    },
    {
      "cell_type": "code",
      "source": [
        "race= {\"White\":1, \"Asian\":2, \"Australian\":3, \"Korean\":4, \"Chinese\":5,\"Black\" :6, \"African American\": 5, \"Welsh\":6, \"Hispanic\" : 7, \"Mixed\":8 }\n",
        "data[\"Race\"]= data[\"Race\"].replace(race)\n",
        "data[\"Race\"] = data[\"Race\"].astype(int)"
      ],
      "metadata": {
        "id": "8p3ofIdKZ-AI"
      },
      "execution_count": null,
      "outputs": []
    },
    {
      "cell_type": "code",
      "source": [
        "label = LabelEncoder()\n",
        "data[\"Job Title\"]= label.fit_transform(data[\"Job Title\"])\n",
        "lab = dict(zip(label.classes_, label.transform(label.classes_)))\n",
        "print(lab)"
      ],
      "metadata": {
        "id": "S4DHpvJkcQwd",
        "colab": {
          "base_uri": "https://localhost:8080/"
        },
        "outputId": "0f4ffefc-800c-4ec1-bba4-08dce590ad99"
      },
      "execution_count": null,
      "outputs": [
        {
          "output_type": "stream",
          "name": "stdout",
          "text": [
            "{'Account Executive': 0, 'Account Manager': 1, 'Accountant': 2, 'Administrative Assistant': 3, 'Advertising Coordinator': 4, 'Back end Developer': 5, 'Business Analyst': 6, 'Business Development Associate': 7, 'Business Development Manager': 8, 'Business Intelligence Analyst': 9, 'Business Operations Analyst': 10, 'CEO': 11, 'Chief Data Officer': 12, 'Chief Technology Officer': 13, 'Consultant': 14, 'Content Marketing Manager': 15, 'Copywriter': 16, 'Creative Director': 17, 'Customer Service Manager': 18, 'Customer Service Rep': 19, 'Customer Service Representative': 20, 'Customer Success Manager': 21, 'Customer Success Rep': 22, 'Customer Support Specialist': 23, 'Data Analyst': 24, 'Data Engineer': 25, 'Data Entry Clerk': 26, 'Data Scientist': 27, 'Delivery Driver': 28, 'Designer': 29, 'Developer': 30, 'Digital Content Producer': 31, 'Digital Marketing Manager': 32, 'Digital Marketing Specialist': 33, 'Director': 34, 'Director of Business Development': 35, 'Director of Data Science': 36, 'Director of Engineering': 37, 'Director of Finance': 38, 'Director of HR': 39, 'Director of Human Capital': 40, 'Director of Human Resources': 41, 'Director of Marketing': 42, 'Director of Operations': 43, 'Director of Product Management': 44, 'Director of Sales': 45, 'Director of Sales and Marketing': 46, 'Engineer': 47, 'Event Coordinator': 48, 'Financial Advisor': 49, 'Financial Analyst': 50, 'Financial Manager': 51, 'Front End Developer': 52, 'Front end Developer': 53, 'Full Stack Engineer': 54, 'Graphic Designer': 55, 'HR Coordinator': 56, 'HR Generalist': 57, 'HR Manager': 58, 'HR Specialist': 59, 'Help Desk Analyst': 60, 'Human Resources Coordinator': 61, 'Human Resources Director': 62, 'Human Resources Manager': 63, 'Human Resources Specialist': 64, 'IT Consultant': 65, 'IT Manager': 66, 'IT Project Manager': 67, 'IT Support': 68, 'IT Support Specialist': 69, 'Juniour HR Coordinator': 70, 'Juniour HR Generalist': 71, 'Manager': 72, 'Marketing Analyst': 73, 'Marketing Coordinator': 74, 'Marketing Director': 75, 'Marketing Manager': 76, 'Marketing Specialist': 77, 'Network Engineer': 78, 'Office Manager': 79, 'Operations Analyst': 80, 'Operations Coordinator': 81, 'Operations Director': 82, 'Operations Manager': 83, 'Principal Engineer': 84, 'Principal Scientist': 85, 'Product Designer': 86, 'Product Development Manager': 87, 'Product Manager': 88, 'Product Marketing Manager': 89, 'Project Coordinator': 90, 'Project Engineer': 91, 'Project Manager': 92, 'Public Relations Manager': 93, 'Quality Assurance Analyst': 94, 'Receptionist': 95, 'Recruiter': 96, 'Research Director': 97, 'Research Scientist': 98, 'Researcher': 99, 'Sales Associate': 100, 'Sales Director': 101, 'Sales Executive': 102, 'Sales Manager': 103, 'Sales Operations Manager': 104, 'Sales Representative': 105, 'Scientist': 106, 'Social Media Man': 107, 'Social Media Manager': 108, 'Social Media Specialist': 109, 'Software Architect': 110, 'Software Developer': 111, 'Software Engineer': 112, 'Software Engineer Manager': 113, 'Software Manager': 114, 'Software Project Manager': 115, 'Strategy Consultant': 116, 'Supply Chain Analyst': 117, 'Supply Chain Manager': 118, 'Technical Recruiter': 119, 'Technical Support Specialist': 120, 'Technical Writer': 121, 'Training Specialist': 122, 'UX Designer': 123, 'UX Researcher': 124, 'VP of Finance': 125, 'VP of Operations': 126, 'Web Designer': 127, 'Web Developer': 128}\n"
          ]
        }
      ]
    },
    {
      "cell_type": "code",
      "source": [
        "data.dtypes"
      ],
      "metadata": {
        "id": "5Sjuo1UH067J",
        "colab": {
          "base_uri": "https://localhost:8080/"
        },
        "outputId": "171f3993-4eb1-44db-a08e-f5f8c2afd655"
      },
      "execution_count": null,
      "outputs": [
        {
          "output_type": "execute_result",
          "data": {
            "text/plain": [
              "Age                    int64\n",
              "Gender                 int64\n",
              "Education Level        int64\n",
              "Job Title              int64\n",
              "Years of Experience    int64\n",
              "Salary                 int64\n",
              "Country                int64\n",
              "Race                   int64\n",
              "Senior                 int64\n",
              "dtype: object"
            ]
          },
          "metadata": {},
          "execution_count": 20
        }
      ]
    },
    {
      "cell_type": "code",
      "source": [
        "data[\"Age\"].value_counts()"
      ],
      "metadata": {
        "colab": {
          "base_uri": "https://localhost:8080/"
        },
        "id": "yqNYnX9pPS2z",
        "outputId": "fe10c0c1-16a2-4167-acba-795a2d7348f8"
      },
      "execution_count": null,
      "outputs": [
        {
          "output_type": "execute_result",
          "data": {
            "text/plain": [
              "Age\n",
              "27    372\n",
              "30    347\n",
              "28    325\n",
              "29    324\n",
              "33    300\n",
              "26    299\n",
              "31    279\n",
              "32    245\n",
              "34    231\n",
              "36    225\n",
              "25    209\n",
              "35    171\n",
              "24    155\n",
              "42    138\n",
              "43    131\n",
              "38    124\n",
              "45    122\n",
              "37    117\n",
              "39    117\n",
              "44    114\n",
              "41    107\n",
              "46     91\n",
              "23     82\n",
              "40     76\n",
              "48     75\n",
              "49     74\n",
              "50     72\n",
              "54     51\n",
              "47     41\n",
              "51     26\n",
              "52     26\n",
              "55     15\n",
              "22     13\n",
              "21     11\n",
              "56     10\n",
              "57      9\n",
              "58      7\n",
              "53      5\n",
              "62      5\n",
              "60      5\n",
              "61      2\n",
              "Name: count, dtype: int64"
            ]
          },
          "metadata": {},
          "execution_count": 21
        }
      ]
    },
    {
      "cell_type": "code",
      "source": [
        "bin = [18,35,50,100]\n",
        "label =[\"young\", \"middle\", \"senior\"]\n",
        "data[\"Age Group\"]=pd.cut(data[\"Age\"], bins = bin, labels=label,right = False)\n"
      ],
      "metadata": {
        "id": "cf-WnY67QLlx"
      },
      "execution_count": null,
      "outputs": []
    },
    {
      "cell_type": "code",
      "source": [
        "data[\"Age Group\"].value_counts()"
      ],
      "metadata": {
        "colab": {
          "base_uri": "https://localhost:8080/"
        },
        "id": "LwbzyOXBRRXw",
        "outputId": "4a89c6c2-2877-464e-bcb3-ea4fc17c8967"
      },
      "execution_count": null,
      "outputs": [
        {
          "output_type": "execute_result",
          "data": {
            "text/plain": [
              "Age Group\n",
              "young     3192\n",
              "middle    1723\n",
              "senior     233\n",
              "Name: count, dtype: int64"
            ]
          },
          "metadata": {},
          "execution_count": 23
        }
      ]
    },
    {
      "cell_type": "code",
      "source": [
        "lab = LabelEncoder()\n",
        "data[\"Age Group\"]= lab.fit_transform(data[\"Age Group\"])"
      ],
      "metadata": {
        "id": "UL3VGVDHRxs5"
      },
      "execution_count": null,
      "outputs": []
    },
    {
      "cell_type": "code",
      "source": [
        "data['Age Group'].value_counts()"
      ],
      "metadata": {
        "colab": {
          "base_uri": "https://localhost:8080/"
        },
        "id": "anMk6l8xTP8D",
        "outputId": "01f5fbfd-87d2-40e3-cfae-b3d720193d27"
      },
      "execution_count": null,
      "outputs": [
        {
          "output_type": "execute_result",
          "data": {
            "text/plain": [
              "Age Group\n",
              "2    3192\n",
              "0    1723\n",
              "1     233\n",
              "Name: count, dtype: int64"
            ]
          },
          "metadata": {},
          "execution_count": 25
        }
      ]
    },
    {
      "cell_type": "code",
      "source": [
        "data.drop(\"Age\", axis =1, inplace= True)"
      ],
      "metadata": {
        "id": "LZE9jBX-ch_7"
      },
      "execution_count": null,
      "outputs": []
    },
    {
      "cell_type": "code",
      "source": [
        "fig, ax = plt.subplots(2,2 ,figsize = (14,8))\n",
        "sns.countplot(x=\"Senior\", hue=\"Gender\", data=data, ax=ax[0,0])\n",
        "sns.countplot(x=\"Senior\", hue=\"Age Group\", data=data, ax=ax[0,1])\n",
        "sns.countplot(x=\"Senior\", hue=\"Race\", data=data, ax=ax[1,0])\n",
        "sns.countplot(x=\"Senior\", hue=\"Education Level\", data=data, ax=ax[1,1])\n",
        "\n",
        "fig.show()"
      ],
      "metadata": {
        "colab": {
          "base_uri": "https://localhost:8080/",
          "height": 696
        },
        "id": "eRVfW8cg2SDN",
        "outputId": "fd9ba023-c535-49b3-cebe-cee376bb37ea"
      },
      "execution_count": null,
      "outputs": [
        {
          "output_type": "display_data",
          "data": {
            "text/plain": [
              "<Figure size 1400x800 with 4 Axes>"
            ],
            "image/png": "[encoded data removed]"
          },
          "metadata": {}
        }
      ]
    },
    {
      "cell_type": "code",
      "source": [
        "# Generate a Correlation Matrix\n",
        "cor= data.corr()\n",
        "plt.figure(figsize = (10, 8))\n",
        "sns.heatmap(cor, annot =True)"
      ],
      "metadata": {
        "id": "YlsA5I9qoGBX",
        "colab": {
          "base_uri": "https://localhost:8080/",
          "height": 586
        },
        "outputId": "bee0064a-90b3-4cc5-bd8e-641345e778af"
      },
      "execution_count": null,
      "outputs": [
        {
          "output_type": "execute_result",
          "data": {
            "text/plain": [
              "<Axes: >"
            ]
          },
          "metadata": {},
          "execution_count": 27
        },
        {
          "output_type": "display_data",
          "data": {
            "text/plain": [
              "<Figure size 1000x800 with 2 Axes>"
            ],
            "image/png": "[encoded data removed]"
          },
          "metadata": {}
        }
      ]
    },
    {
      "cell_type": "code",
      "source": [
        "print(data.corr()[\"Senior\"].abs().sort_values(ascending=False))"
      ],
      "metadata": {
        "id": "awsu-S7BplRu",
        "colab": {
          "base_uri": "https://localhost:8080/"
        },
        "outputId": "3058888d-b1c4-45b5-beb8-5dadea780c75"
      },
      "execution_count": null,
      "outputs": [
        {
          "output_type": "stream",
          "name": "stdout",
          "text": [
            "Senior                 1.000000\n",
            "Age Group              0.365142\n",
            "Years of Experience    0.316578\n",
            "Education Level        0.252746\n",
            "Salary                 0.234674\n",
            "Job Title              0.172343\n",
            "Country                0.031208\n",
            "Gender                 0.025523\n",
            "Race                   0.012311\n",
            "Name: Senior, dtype: float64\n"
          ]
        }
      ]
    },
    {
      "cell_type": "code",
      "source": [
        "# create the attribute and target data\n",
        "#attributes\n",
        "x = data.drop(columns = [\"Senior\",\"Race\",\"Country\"])\n",
        "#target\n",
        "y = data[\"Senior\"]\n",
        "x.head()\n"
      ],
      "metadata": {
        "id": "T6Bu8WQUrjdo",
        "colab": {
          "base_uri": "https://localhost:8080/",
          "height": 223
        },
        "outputId": "4cf7d2a2-c8aa-49db-ec93-0c0ae5c9d63f"
      },
      "execution_count": null,
      "outputs": [
        {
          "output_type": "execute_result",
          "data": {
            "text/plain": [
              "   Gender  Education Level  Job Title  Years of Experience  Salary  Age Group\n",
              "0       1                1        112                    5   90000          2\n",
              "1       0                2         24                    3   65000          2\n",
              "2       1                3         72                   15  150000          0\n",
              "3       0                1        100                    7   60000          0\n",
              "4       1                2         34                   20  200000          1"
            ],
            "text/html": [
              "\n",
              "  <div id=\"df-fc4bbaf3-d87b-4942-831d-1380df1a3c32\" class=\"colab-df-container\">\n",
              "    <div>\n",
              "<style scoped>\n",
              "    .dataframe tbody tr th:only-of-type {\n",
              "        vertical-align: middle;\n",
              "    }\n",
              "\n",
              "    .dataframe tbody tr th {\n",
              "        vertical-align: top;\n",
              "    }\n",
              "\n",
              "    .dataframe thead th {\n",
              "        text-align: right;\n",
              "    }\n",
              "</style>\n",
              "<table border=\"1\" class=\"dataframe\">\n",
              "  <thead>\n",
              "    <tr style=\"text-align: right;\">\n",
              "      <th></th>\n",
              "      <th>Gender</th>\n",
              "      <th>Education Level</th>\n",
              "      <th>Job Title</th>\n",
              "      <th>Years of Experience</th>\n",
              "      <th>Salary</th>\n",
              "      <th>Age Group</th>\n",
              "    </tr>\n",
              "  </thead>\n",
              "  <tbody>\n",
              "    <tr>\n",
              "      <th>0</th>\n",
              "      <td>1</td>\n",
              "      <td>1</td>\n",
              "      <td>112</td>\n",
              "      <td>5</td>\n",
              "      <td>90000</td>\n",
              "      <td>2</td>\n",
              "    </tr>\n",
              "    <tr>\n",
              "      <th>1</th>\n",
              "      <td>0</td>\n",
              "      <td>2</td>\n",
              "      <td>24</td>\n",
              "      <td>3</td>\n",
              "      <td>65000</td>\n",
              "      <td>2</td>\n",
              "    </tr>\n",
              "    <tr>\n",
              "      <th>2</th>\n",
              "      <td>1</td>\n",
              "      <td>3</td>\n",
              "      <td>72</td>\n",
              "      <td>15</td>\n",
              "      <td>150000</td>\n",
              "      <td>0</td>\n",
              "    </tr>\n",
              "    <tr>\n",
              "      <th>3</th>\n",
              "      <td>0</td>\n",
              "      <td>1</td>\n",
              "      <td>100</td>\n",
              "      <td>7</td>\n",
              "      <td>60000</td>\n",
              "      <td>0</td>\n",
              "    </tr>\n",
              "    <tr>\n",
              "      <th>4</th>\n",
              "      <td>1</td>\n",
              "      <td>2</td>\n",
              "      <td>34</td>\n",
              "      <td>20</td>\n",
              "      <td>200000</td>\n",
              "      <td>1</td>\n",
              "    </tr>\n",
              "  </tbody>\n",
              "</table>\n",
              "</div>\n",
              "    <div class=\"colab-df-buttons\">\n",
              "\n",
              "  <div class=\"colab-df-container\">\n",
              "    <button class=\"colab-df-convert\" onclick=\"convertToInteractive('df-fc4bbaf3-d87b-4942-831d-1380df1a3c32')\"\n",
              "            title=\"Convert this dataframe to an interactive table.\"\n",
              "            style=\"display:none;\">\n",
              "\n",
              "  <svg xmlns=\"http://www.w3.org/2000/svg\" height=\"24px\" viewBox=\"0 -960 960 960\">\n",
              "    <path d=\"M120-120v-720h720v720H120Zm60-500h600v-160H180v160Zm220 220h160v-160H400v160Zm0 220h160v-160H400v160ZM180-400h160v-160H180v160Zm440 0h160v-160H620v160ZM180-180h160v-160H180v160Zm440 0h160v-160H620v160Z\"/>\n",
              "  </svg>\n",
              "    </button>\n",
              "\n",
              "  <style>\n",
              "    .colab-df-container {\n",
              "      display:flex;\n",
              "      gap: 12px;\n",
              "    }\n",
              "\n",
              "    .colab-df-convert {\n",
              "      background-color: #E8F0FE;\n",
              "      border: none;\n",
              "      border-radius: 50%;\n",
              "      cursor: pointer;\n",
              "      display: none;\n",
              "      fill: #1967D2;\n",
              "      height: 32px;\n",
              "      padding: 0 0 0 0;\n",
              "      width: 32px;\n",
              "    }\n",
              "\n",
              "    .colab-df-convert:hover {\n",
              "      background-color: #E2EBFA;\n",
              "      box-shadow: 0px 1px 2px rgba(60, 64, 67, 0.3), 0px 1px 3px 1px rgba(60, 64, 67, 0.15);\n",
              "      fill: #174EA6;\n",
              "    }\n",
              "\n",
              "    .colab-df-buttons div {\n",
              "      margin-bottom: 4px;\n",
              "    }\n",
              "\n",
              "    [theme=dark] .colab-df-convert {\n",
              "      background-color: #3B4455;\n",
              "      fill: #D2E3FC;\n",
              "    }\n",
              "\n",
              "    [theme=dark] .colab-df-convert:hover {\n",
              "      background-color: #434B5C;\n",
              "      box-shadow: 0px 1px 3px 1px rgba(0, 0, 0, 0.15);\n",
              "      filter: drop-shadow(0px 1px 2px rgba(0, 0, 0, 0.3));\n",
              "      fill: #FFFFFF;\n",
              "    }\n",
              "  </style>\n",
              "\n",
              "    <script>\n",
              "      const buttonEl =\n",
              "        document.querySelector('#df-fc4bbaf3-d87b-4942-831d-1380df1a3c32 button.colab-df-convert');\n",
              "      buttonEl.style.display =\n",
              "        google.colab.kernel.accessAllowed ? 'block' : 'none';\n",
              "\n",
              "      async function convertToInteractive(key) {\n",
              "        const element = document.querySelector('#df-fc4bbaf3-d87b-4942-831d-1380df1a3c32');\n",
              "        const dataTable =\n",
              "          await google.colab.kernel.invokeFunction('convertToInteractive',\n",
              "                                                    [key], {});\n",
              "        if (!dataTable) return;\n",
              "\n",
              "        const docLinkHtml = 'Like what you see? Visit the ' +\n",
              "          '<a target=\"_blank\" href=https://colab.research.google.com/notebooks/data_table.ipynb>data table notebook</a>'\n",
              "          + ' to learn more about interactive tables.';\n",
              "        element.innerHTML = '';\n",
              "        dataTable['output_type'] = 'display_data';\n",
              "        await google.colab.output.renderOutput(dataTable, element);\n",
              "        const docLink = document.createElement('div');\n",
              "        docLink.innerHTML = docLinkHtml;\n",
              "        element.appendChild(docLink);\n",
              "      }\n",
              "    </script>\n",
              "  </div>\n",
              "\n",
              "\n",
              "<div id=\"df-d459ded9-1bd4-469f-9fab-c3edc4acb20c\">\n",
              "  <button class=\"colab-df-quickchart\" onclick=\"quickchart('df-d459ded9-1bd4-469f-9fab-c3edc4acb20c')\"\n",
              "            title=\"Suggest charts\"\n",
              "            style=\"display:none;\">\n",
              "\n",
              "<svg xmlns=\"http://www.w3.org/2000/svg\" height=\"24px\"viewBox=\"0 0 24 24\"\n",
              "     width=\"24px\">\n",
              "    <g>\n",
              "        <path d=\"M19 3H5c-1.1 0-2 .9-2 2v14c0 1.1.9 2 2 2h14c1.1 0 2-.9 2-2V5c0-1.1-.9-2-2-2zM9 17H7v-7h2v7zm4 0h-2V7h2v10zm4 0h-2v-4h2v4z\"/>\n",
              "    </g>\n",
              "</svg>\n",
              "  </button>\n",
              "\n",
              "<style>\n",
              "  .colab-df-quickchart {\n",
              "      --bg-color: #E8F0FE;\n",
              "      --fill-color: #1967D2;\n",
              "      --hover-bg-color: #E2EBFA;\n",
              "      --hover-fill-color: #174EA6;\n",
              "      --disabled-fill-color: #AAA;\n",
              "      --disabled-bg-color: #DDD;\n",
              "  }\n",
              "\n",
              "  [theme=dark] .colab-df-quickchart {\n",
              "      --bg-color: #3B4455;\n",
              "      --fill-color: #D2E3FC;\n",
              "      --hover-bg-color: #434B5C;\n",
              "      --hover-fill-color: #FFFFFF;\n",
              "      --disabled-bg-color: #3B4455;\n",
              "      --disabled-fill-color: #666;\n",
              "  }\n",
              "\n",
              "  .colab-df-quickchart {\n",
              "    background-color: var(--bg-color);\n",
              "    border: none;\n",
              "    border-radius: 50%;\n",
              "    cursor: pointer;\n",
              "    display: none;\n",
              "    fill: var(--fill-color);\n",
              "    height: 32px;\n",
              "    padding: 0;\n",
              "    width: 32px;\n",
              "  }\n",
              "\n",
              "  .colab-df-quickchart:hover {\n",
              "    background-color: var(--hover-bg-color);\n",
              "    box-shadow: 0 1px 2px rgba(60, 64, 67, 0.3), 0 1px 3px 1px rgba(60, 64, 67, 0.15);\n",
              "    fill: var(--button-hover-fill-color);\n",
              "  }\n",
              "\n",
              "  .colab-df-quickchart-complete:disabled,\n",
              "  .colab-df-quickchart-complete:disabled:hover {\n",
              "    background-color: var(--disabled-bg-color);\n",
              "    fill: var(--disabled-fill-color);\n",
              "    box-shadow: none;\n",
              "  }\n",
              "\n",
              "  .colab-df-spinner {\n",
              "    border: 2px solid var(--fill-color);\n",
              "    border-color: transparent;\n",
              "    border-bottom-color: var(--fill-color);\n",
              "    animation:\n",
              "      spin 1s steps(1) infinite;\n",
              "  }\n",
              "\n",
              "  @keyframes spin {\n",
              "    0% {\n",
              "      border-color: transparent;\n",
              "      border-bottom-color: var(--fill-color);\n",
              "      border-left-color: var(--fill-color);\n",
              "    }\n",
              "    20% {\n",
              "      border-color: transparent;\n",
              "      border-left-color: var(--fill-color);\n",
              "      border-top-color: var(--fill-color);\n",
              "    }\n",
              "    30% {\n",
              "      border-color: transparent;\n",
              "      border-left-color: var(--fill-color);\n",
              "      border-top-color: var(--fill-color);\n",
              "      border-right-color: var(--fill-color);\n",
              "    }\n",
              "    40% {\n",
              "      border-color: transparent;\n",
              "      border-right-color: var(--fill-color);\n",
              "      border-top-color: var(--fill-color);\n",
              "    }\n",
              "    60% {\n",
              "      border-color: transparent;\n",
              "      border-right-color: var(--fill-color);\n",
              "    }\n",
              "    80% {\n",
              "      border-color: transparent;\n",
              "      border-right-color: var(--fill-color);\n",
              "      border-bottom-color: var(--fill-color);\n",
              "    }\n",
              "    90% {\n",
              "      border-color: transparent;\n",
              "      border-bottom-color: var(--fill-color);\n",
              "    }\n",
              "  }\n",
              "</style>\n",
              "\n",
              "  <script>\n",
              "    async function quickchart(key) {\n",
              "      const quickchartButtonEl =\n",
              "        document.querySelector('#' + key + ' button');\n",
              "      quickchartButtonEl.disabled = true;  // To prevent multiple clicks.\n",
              "      quickchartButtonEl.classList.add('colab-df-spinner');\n",
              "      try {\n",
              "        const charts = await google.colab.kernel.invokeFunction(\n",
              "            'suggestCharts', [key], {});\n",
              "      } catch (error) {\n",
              "        console.error('Error during call to suggestCharts:', error);\n",
              "      }\n",
              "      quickchartButtonEl.classList.remove('colab-df-spinner');\n",
              "      quickchartButtonEl.classList.add('colab-df-quickchart-complete');\n",
              "    }\n",
              "    (() => {\n",
              "      let quickchartButtonEl =\n",
              "        document.querySelector('#df-d459ded9-1bd4-469f-9fab-c3edc4acb20c button');\n",
              "      quickchartButtonEl.style.display =\n",
              "        google.colab.kernel.accessAllowed ? 'block' : 'none';\n",
              "    })();\n",
              "  </script>\n",
              "</div>\n",
              "    </div>\n",
              "  </div>\n"
            ],
            "application/vnd.google.colaboratory.intrinsic+json": {
              "type": "dataframe",
              "variable_name": "x",
              "summary": "{\n  \"name\": \"x\",\n  \"rows\": 5148,\n  \"fields\": [\n    {\n      \"column\": \"Gender\",\n      \"properties\": {\n        \"dtype\": \"number\",\n        \"std\": 0,\n        \"min\": 0,\n        \"max\": 1,\n        \"num_unique_values\": 2,\n        \"samples\": [\n          0,\n          1\n        ],\n        \"semantic_type\": \"\",\n        \"description\": \"\"\n      }\n    },\n    {\n      \"column\": \"Education Level\",\n      \"properties\": {\n        \"dtype\": \"number\",\n        \"std\": 0,\n        \"min\": 0,\n        \"max\": 3,\n        \"num_unique_values\": 4,\n        \"samples\": [\n          2,\n          0\n        ],\n        \"semantic_type\": \"\",\n        \"description\": \"\"\n      }\n    },\n    {\n      \"column\": \"Job Title\",\n      \"properties\": {\n        \"dtype\": \"number\",\n        \"std\": 34,\n        \"min\": 0,\n        \"max\": 128,\n        \"num_unique_values\": 129,\n        \"samples\": [\n          43,\n          82\n        ],\n        \"semantic_type\": \"\",\n        \"description\": \"\"\n      }\n    },\n    {\n      \"column\": \"Years of Experience\",\n      \"properties\": {\n        \"dtype\": \"number\",\n        \"std\": 6,\n        \"min\": 0,\n        \"max\": 34,\n        \"num_unique_values\": 35,\n        \"samples\": [\n          30,\n          16\n        ],\n        \"semantic_type\": \"\",\n        \"description\": \"\"\n      }\n    },\n    {\n      \"column\": \"Salary\",\n      \"properties\": {\n        \"dtype\": \"number\",\n        \"std\": 52458,\n        \"min\": 350,\n        \"max\": 250000,\n        \"num_unique_values\": 437,\n        \"samples\": [\n          117000,\n          181714\n        ],\n        \"semantic_type\": \"\",\n        \"description\": \"\"\n      }\n    },\n    {\n      \"column\": \"Age Group\",\n      \"properties\": {\n        \"dtype\": \"number\",\n        \"std\": 0,\n        \"min\": 0,\n        \"max\": 2,\n        \"num_unique_values\": 3,\n        \"samples\": [\n          2,\n          0\n        ],\n        \"semantic_type\": \"\",\n        \"description\": \"\"\n      }\n    }\n  ]\n}"
            }
          },
          "metadata": {},
          "execution_count": 29
        }
      ]
    },
    {
      "cell_type": "code",
      "source": [
        "# split the data into training and test\n",
        "x_train , x_test, y_train, y_test = train_test_split(x, y , test_size =0.2, random_state= 42 )\n"
      ],
      "metadata": {
        "id": "Gjnur_HctYKT"
      },
      "execution_count": null,
      "outputs": []
    },
    {
      "cell_type": "code",
      "source": [
        "#create the Random Forest classification model\n",
        "model_s = RandomForestClassifier(n_estimators = 200, max_depth = 10, random_state =0 )\n",
        "model_s.fit(x_train, y_train)"
      ],
      "metadata": {
        "id": "US4hs-rwuWcx",
        "colab": {
          "base_uri": "https://localhost:8080/",
          "height": 74
        },
        "outputId": "bfef9572-74b0-4835-9c77-206e7103398e"
      },
      "execution_count": null,
      "outputs": [
        {
          "output_type": "execute_result",
          "data": {
            "text/plain": [
              "RandomForestClassifier(max_depth=10, n_estimators=200, random_state=0)"
            ],
            "text/html": [
              "<style>#sk-container-id-1 {color: black;background-color: white;}#sk-container-id-1 pre{padding: 0;}#sk-container-id-1 div.sk-toggleable {background-color: white;}#sk-container-id-1 label.sk-toggleable__label {cursor: pointer;display: block;width: 100%;margin-bottom: 0;padding: 0.3em;box-sizing: border-box;text-align: center;}#sk-container-id-1 label.sk-toggleable__label-arrow:before {content: \"▸\";float: left;margin-right: 0.25em;color: #696969;}#sk-container-id-1 label.sk-toggleable__label-arrow:hover:before {color: black;}#sk-container-id-1 div.sk-estimator:hover label.sk-toggleable__label-arrow:before {color: black;}#sk-container-id-1 div.sk-toggleable__content {max-height: 0;max-width: 0;overflow: hidden;text-align: left;background-color: #f0f8ff;}#sk-container-id-1 div.sk-toggleable__content pre {margin: 0.2em;color: black;border-radius: 0.25em;background-color: #f0f8ff;}#sk-container-id-1 input.sk-toggleable__control:checked~div.sk-toggleable__content {max-height: 200px;max-width: 100%;overflow: auto;}#sk-container-id-1 input.sk-toggleable__control:checked~label.sk-toggleable__label-arrow:before {content: \"▾\";}#sk-container-id-1 div.sk-estimator input.sk-toggleable__control:checked~label.sk-toggleable__label {background-color: #d4ebff;}#sk-container-id-1 div.sk-label input.sk-toggleable__control:checked~label.sk-toggleable__label {background-color: #d4ebff;}#sk-container-id-1 input.sk-hidden--visually {border: 0;clip: rect(1px 1px 1px 1px);clip: rect(1px, 1px, 1px, 1px);height: 1px;margin: -1px;overflow: hidden;padding: 0;position: absolute;width: 1px;}#sk-container-id-1 div.sk-estimator {font-family: monospace;background-color: #f0f8ff;border: 1px dotted black;border-radius: 0.25em;box-sizing: border-box;margin-bottom: 0.5em;}#sk-container-id-1 div.sk-estimator:hover {background-color: #d4ebff;}#sk-container-id-1 div.sk-parallel-item::after {content: \"\";width: 100%;border-bottom: 1px solid gray;flex-grow: 1;}#sk-container-id-1 div.sk-label:hover label.sk-toggleable__label {background-color: #d4ebff;}#sk-container-id-1 div.sk-serial::before {content: \"\";position: absolute;border-left: 1px solid gray;box-sizing: border-box;top: 0;bottom: 0;left: 50%;z-index: 0;}#sk-container-id-1 div.sk-serial {display: flex;flex-direction: column;align-items: center;background-color: white;padding-right: 0.2em;padding-left: 0.2em;position: relative;}#sk-container-id-1 div.sk-item {position: relative;z-index: 1;}#sk-container-id-1 div.sk-parallel {display: flex;align-items: stretch;justify-content: center;background-color: white;position: relative;}#sk-container-id-1 div.sk-item::before, #sk-container-id-1 div.sk-parallel-item::before {content: \"\";position: absolute;border-left: 1px solid gray;box-sizing: border-box;top: 0;bottom: 0;left: 50%;z-index: -1;}#sk-container-id-1 div.sk-parallel-item {display: flex;flex-direction: column;z-index: 1;position: relative;background-color: white;}#sk-container-id-1 div.sk-parallel-item:first-child::after {align-self: flex-end;width: 50%;}#sk-container-id-1 div.sk-parallel-item:last-child::after {align-self: flex-start;width: 50%;}#sk-container-id-1 div.sk-parallel-item:only-child::after {width: 0;}#sk-container-id-1 div.sk-dashed-wrapped {border: 1px dashed gray;margin: 0 0.4em 0.5em 0.4em;box-sizing: border-box;padding-bottom: 0.4em;background-color: white;}#sk-container-id-1 div.sk-label label {font-family: monospace;font-weight: bold;display: inline-block;line-height: 1.2em;}#sk-container-id-1 div.sk-label-container {text-align: center;}#sk-container-id-1 div.sk-container {/* jupyter's `normalize.less` sets `[hidden] { display: none; }` but bootstrap.min.css set `[hidden] { display: none !important; }` so we also need the `!important` here to be able to override the default hidden behavior on the sphinx rendered scikit-learn.org. See: https://github.com/scikit-learn/scikit-learn/issues/21755 */display: inline-block !important;position: relative;}#sk-container-id-1 div.sk-text-repr-fallback {display: none;}</style><div id=\"sk-container-id-1\" class=\"sk-top-container\"><div class=\"sk-text-repr-fallback\"><pre>RandomForestClassifier(max_depth=10, n_estimators=200, random_state=0)</pre><b>In a Jupyter environment, please rerun this cell to show the HTML representation or trust the notebook. <br />On GitHub, the HTML representation is unable to render, please try loading this page with nbviewer.org.</b></div><div class=\"sk-container\" hidden><div class=\"sk-item\"><div class=\"sk-estimator sk-toggleable\"><input class=\"sk-toggleable__control sk-hidden--visually\" id=\"sk-estimator-id-1\" type=\"checkbox\" checked><label for=\"sk-estimator-id-1\" class=\"sk-toggleable__label sk-toggleable__label-arrow\">RandomForestClassifier</label><div class=\"sk-toggleable__content\"><pre>RandomForestClassifier(max_depth=10, n_estimators=200, random_state=0)</pre></div></div></div></div></div>"
            ]
          },
          "metadata": {},
          "execution_count": 31
        }
      ]
    },
    {
      "cell_type": "code",
      "source": [
        "#the feature importances\n",
        "importances = model_s.feature_importances_\n",
        "feature_names = x_train.columns\n",
        "feature_importances = list(zip(feature_names, importances))\n",
        "feature_importances.sort(key=lambda x: x[1], reverse=True)\n",
        "for feature_name, importance in feature_importances:\n",
        "    print(f\"{feature_name}: {importance}\")"
      ],
      "metadata": {
        "colab": {
          "base_uri": "https://localhost:8080/"
        },
        "id": "XvUDluODg_sS",
        "outputId": "db1bd977-e0f8-41a7-852b-ba0294a6b42a"
      },
      "execution_count": null,
      "outputs": [
        {
          "output_type": "stream",
          "name": "stdout",
          "text": [
            "Job Title: 0.48802703104882317\n",
            "Salary: 0.18662698916808793\n",
            "Years of Experience: 0.15102733983627517\n",
            "Age Group: 0.08401923143737917\n",
            "Education Level: 0.06968793932416453\n",
            "Gender: 0.020611469185270074\n"
          ]
        }
      ]
    },
    {
      "cell_type": "code",
      "source": [
        "# evaluating using the training data\n",
        "y_pred = model_s.predict(x_train)\n",
        "Accur_score = metrics.accuracy_score(y_train, y_pred)\n",
        "Precision_sc = metrics.precision_score(y_train, y_pred)\n",
        "recall = metrics.recall_score(y_train, y_pred)\n",
        "print(Accur_score, Precision_sc, recall)\n",
        "print(classification_report(y_train, y_pred))"
      ],
      "metadata": {
        "id": "UQjgDTlRuv29",
        "colab": {
          "base_uri": "https://localhost:8080/"
        },
        "outputId": "9f7bc555-dbb1-4443-f7b5-8253f35cbd41"
      },
      "execution_count": null,
      "outputs": [
        {
          "output_type": "stream",
          "name": "stdout",
          "text": [
            "0.9927149101505586 0.9968553459119497 0.9577039274924471\n",
            "              precision    recall  f1-score   support\n",
            "\n",
            "           0       0.99      1.00      1.00      3456\n",
            "           1       1.00      0.96      0.98       662\n",
            "\n",
            "    accuracy                           0.99      4118\n",
            "   macro avg       0.99      0.98      0.99      4118\n",
            "weighted avg       0.99      0.99      0.99      4118\n",
            "\n"
          ]
        }
      ]
    },
    {
      "cell_type": "code",
      "source": [
        "# evaluating using the testing data\n",
        "y_test_p = model_s.predict(x_test)\n",
        "accuracy_test = metrics.accuracy_score(y_test, y_test_p)\n",
        "precision_test = metrics.precision_score(y_test, y_test_p)\n",
        "recall_test = metrics.recall_score(y_test, y_test_p)"
      ],
      "metadata": {
        "id": "M0v5zqGM5Tzo"
      },
      "execution_count": null,
      "outputs": []
    },
    {
      "cell_type": "code",
      "source": [
        "#print accuracy, precision and recall. Also printing the classification report\n",
        "print(accuracy_test,precision_test, recall_test)\n",
        "print(classification_report(y_test, y_test_p))"
      ],
      "metadata": {
        "colab": {
          "base_uri": "https://localhost:8080/"
        },
        "id": "HmU_j2WflP-A",
        "outputId": "13a11d5e-7178-4f37-fa60-71c284add344"
      },
      "execution_count": null,
      "outputs": [
        {
          "output_type": "stream",
          "name": "stdout",
          "text": [
            "0.974757281553398 0.9477124183006536 0.8895705521472392\n",
            "              precision    recall  f1-score   support\n",
            "\n",
            "           0       0.98      0.99      0.99       867\n",
            "           1       0.95      0.89      0.92       163\n",
            "\n",
            "    accuracy                           0.97      1030\n",
            "   macro avg       0.96      0.94      0.95      1030\n",
            "weighted avg       0.97      0.97      0.97      1030\n",
            "\n"
          ]
        }
      ]
    },
    {
      "cell_type": "code",
      "source": [
        "#Creating the confusion metrix for train data\n",
        "cm = metrics.confusion_matrix(y_train, y_pred)\n",
        "TN, FP, FN, TP =cm.ravel()\n",
        "print(\"TN={0}, FP={1}, FN={2}, TP={3}\".format(TN, FP,FN, TP))\n",
        "disp = metrics.ConfusionMatrixDisplay(confusion_matrix=cm)\n",
        "disp.plot()\n",
        "plt.show()"
      ],
      "metadata": {
        "id": "f4_ofcup7qHq",
        "colab": {
          "base_uri": "https://localhost:8080/",
          "height": 467
        },
        "outputId": "f9c73b07-b1b0-4387-f26f-03fcf53b1120"
      },
      "execution_count": null,
      "outputs": [
        {
          "output_type": "stream",
          "name": "stdout",
          "text": [
            "TN=3454, FP=2, FN=28, TP=634\n"
          ]
        },
        {
          "output_type": "display_data",
          "data": {
            "text/plain": [
              "<Figure size 640x480 with 2 Axes>"
            ],
            "image/png": "[encoded data removed]"
          },
          "metadata": {}
        }
      ]
    },
    {
      "cell_type": "code",
      "source": [
        "#Creat the confusion metrix for the test data\n",
        "cm = metrics.confusion_matrix(y_test, y_test_p)\n",
        "TN, FP, FN, TP =cm.ravel()\n",
        "print(\"TN={0}, FP={1}, FN={2}, TP={3}\".format(TN, FP,FN, TP))\n",
        "disp = metrics.ConfusionMatrixDisplay(confusion_matrix=cm)\n",
        "disp.plot()\n",
        "plt.show()"
      ],
      "metadata": {
        "id": "-v9DBzvg6pq1",
        "colab": {
          "base_uri": "https://localhost:8080/",
          "height": 467
        },
        "outputId": "2af68a06-124e-4547-bb7e-12e94d96304a"
      },
      "execution_count": null,
      "outputs": [
        {
          "output_type": "stream",
          "name": "stdout",
          "text": [
            "TN=859, FP=8, FN=18, TP=145\n"
          ]
        },
        {
          "output_type": "display_data",
          "data": {
            "text/plain": [
              "<Figure size 640x480 with 2 Axes>"
            ],
            "image/png": "[encoded data removed]"
          },
          "metadata": {}
        }
      ]
    },
    {
      "cell_type": "code",
      "source": [
        "# Creating the bar chart showing the diffeernt between the metrics\n",
        "measures = [Accur_score, Precision_sc, recall]\n",
        "name= [\"Accuracy\", \"Precesion\", \"Recall\",]\n",
        "measure_test = [accuracy_test,precision_test, recall_test]\n",
        "data_measure = pd.DataFrame({\n",
        "    'Measure': name,\n",
        "    'Training':measures,\n",
        "    'Testing': measure_test\n",
        "})\n",
        "data_measure.set_index('Measure', inplace=True)\n",
        "data_measure.plot(kind='bar', figsize=(10, 6))\n",
        "plt.xlabel('Measure')\n",
        "plt.ylabel('Score')\n",
        "plt.xticks(rotation=45)\n",
        "plt.grid(axis='y')\n",
        "plt.legend(title='Dataset')\n",
        "plt.show()"
      ],
      "metadata": {
        "colab": {
          "base_uri": "https://localhost:8080/",
          "height": 439
        },
        "id": "obue2-QnYvPj",
        "outputId": "42df65a9-058a-47a3-adab-e85afe9125b0"
      },
      "execution_count": null,
      "outputs": [
        {
          "output_type": "display_data",
          "data": {
            "text/plain": [
              "<Figure size 1000x600 with 1 Axes>"
            ],
            "image/png": "[encoded data removed]"
          },
          "metadata": {}
        }
      ]
    },
    {
      "cell_type": "code",
      "source": [
        "# splitting the true and predicted values into male and female groups\n",
        "protected = \"Gender\"\n",
        "female= 0.0\n",
        "mal = 1.0\n",
        "age = x_test[protected].value_counts()\n",
        "print(age)\n",
        "f_indicates = np.where(x_test[protected]== female )[0]\n",
        "m_indicates = np.where(x_test[protected]== mal)[0]\n",
        "\n",
        "print(f_indicates, \"No of female\", f_indicates.size)\n",
        "print(\"*\"*20)\n",
        "print(m_indicates, \"No of male\", m_indicates.size)"
      ],
      "metadata": {
        "id": "rS9KkwDA8ZKr",
        "colab": {
          "base_uri": "https://localhost:8080/"
        },
        "outputId": "a88698eb-265e-4a44-fd13-aa6bbcb4c8e0"
      },
      "execution_count": null,
      "outputs": [
        {
          "output_type": "stream",
          "name": "stdout",
          "text": [
            "Gender\n",
            "1    550\n",
            "0    480\n",
            "Name: count, dtype: int64\n",
            "[   3    4    7    8   10   12   13   14   17   18   22   29   30   32\n",
            "   34   36   38   39   41   43   44   51   52   53   54   58   60   62\n",
            "   63   64   66   68   72   73   74   77   81   83   85   87   88   89\n",
            "   91   95   97   99  101  103  104  109  118  119  120  122  123  126\n",
            "  127  129  130  133  135  136  137  140  141  144  147  149  151  152\n",
            "  153  154  155  156  157  158  159  161  162  163  165  166  167  168\n",
            "  169  170  171  173  177  179  182  184  185  186  191  192  193  194\n",
            "  195  203  205  206  211  212  213  214  221  222  224  226  227  229\n",
            "  230  232  233  234  239  242  244  245  247  248  255  256  258  264\n",
            "  267  268  269  271  272  273  274  277  278  279  281  283  285  295\n",
            "  296  297  298  302  303  305  307  308  312  316  317  320  325  326\n",
            "  327  329  330  331  339  344  345  346  350  352  354  357  358  359\n",
            "  362  364  365  366  368  369  370  373  374  377  379  385  387  388\n",
            "  390  392  396  398  404  406  410  411  414  419  427  429  431  432\n",
            "  433  434  435  437  439  440  441  442  443  444  445  448  452  453\n",
            "  462  464  466  471  472  477  483  484  485  492  494  496  497  499\n",
            "  502  504  505  509  511  514  518  523  524  525  529  530  531  532\n",
            "  534  535  538  542  546  548  549  550  551  553  555  560  561  563\n",
            "  564  566  567  568  571  572  573  581  584  588  589  590  593  595\n",
            "  599  600  602  603  605  607  608  617  619  620  621  622  623  629\n",
            "  630  631  633  634  635  636  639  640  641  646  647  648  650  652\n",
            "  653  654  656  658  659  660  662  663  666  668  669  671  674  677\n",
            "  678  681  682  683  684  685  686  691  696  698  700  703  706  711\n",
            "  713  715  716  717  718  722  724  726  730  732  734  735  736  737\n",
            "  738  739  740  744  747  748  751  756  757  758  759  762  763  765\n",
            "  767  769  772  776  777  778  782  786  788  789  795  798  802  803\n",
            "  805  808  811  812  815  817  818  825  830  832  835  837  838  841\n",
            "  843  844  846  849  853  855  857  858  859  861  862  866  868  869\n",
            "  871  875  876  877  878  879  880  882  884  885  886  887  888  889\n",
            "  890  891  893  895  898  900  901  905  910  911  912  916  917  918\n",
            "  920  923  925  926  927  929  930  934  935  937  939  941  942  950\n",
            "  952  953  954  956  958  959  961  963  964  966  967  968  969  971\n",
            "  972  973  976  977  979  980  981  982  983  987  989  992  993  995\n",
            "  996  997  999 1001 1002 1004 1008 1009 1010 1013 1015 1016 1018 1019\n",
            " 1020 1021 1024 1025] No of female 480\n",
            "********************\n",
            "[   0    1    2    5    6    9   11   15   16   19   20   21   23   24\n",
            "   25   26   27   28   31   33   35   37   40   42   45   46   47   48\n",
            "   49   50   55   56   57   59   61   65   67   69   70   71   75   76\n",
            "   78   79   80   82   84   86   90   92   93   94   96   98  100  102\n",
            "  105  106  107  108  110  111  112  113  114  115  116  117  121  124\n",
            "  125  128  131  132  134  138  139  142  143  145  146  148  150  160\n",
            "  164  172  174  175  176  178  180  181  183  187  188  189  190  196\n",
            "  197  198  199  200  201  202  204  207  208  209  210  215  216  217\n",
            "  218  219  220  223  225  228  231  235  236  237  238  240  241  243\n",
            "  246  249  250  251  252  253  254  257  259  260  261  262  263  265\n",
            "  266  270  275  276  280  282  284  286  287  288  289  290  291  292\n",
            "  293  294  299  300  301  304  306  309  310  311  313  314  315  318\n",
            "  319  321  322  323  324  328  332  333  334  335  336  337  338  340\n",
            "  341  342  343  347  348  349  351  353  355  356  360  361  363  367\n",
            "  371  372  375  376  378  380  381  382  383  384  386  389  391  393\n",
            "  394  395  397  399  400  401  402  403  405  407  408  409  412  413\n",
            "  415  416  417  418  420  421  422  423  424  425  426  428  430  436\n",
            "  438  446  447  449  450  451  454  455  456  457  458  459  460  461\n",
            "  463  465  467  468  469  470  473  474  475  476  478  479  480  481\n",
            "  482  486  487  488  489  490  491  493  495  498  500  501  503  506\n",
            "  507  508  510  512  513  515  516  517  519  520  521  522  526  527\n",
            "  528  533  536  537  539  540  541  543  544  545  547  552  554  556\n",
            "  557  558  559  562  565  569  570  574  575  576  577  578  579  580\n",
            "  582  583  585  586  587  591  592  594  596  597  598  601  604  606\n",
            "  609  610  611  612  613  614  615  616  618  624  625  626  627  628\n",
            "  632  637  638  642  643  644  645  649  651  655  657  661  664  665\n",
            "  667  670  672  673  675  676  679  680  687  688  689  690  692  693\n",
            "  694  695  697  699  701  702  704  705  707  708  709  710  712  714\n",
            "  719  720  721  723  725  727  728  729  731  733  741  742  743  745\n",
            "  746  749  750  752  753  754  755  760  761  764  766  768  770  771\n",
            "  773  774  775  779  780  781  783  784  785  787  790  791  792  793\n",
            "  794  796  797  799  800  801  804  806  807  809  810  813  814  816\n",
            "  819  820  821  822  823  824  826  827  828  829  831  833  834  836\n",
            "  839  840  842  845  847  848  850  851  852  854  856  860  863  864\n",
            "  865  867  870  872  873  874  881  883  892  894  896  897  899  902\n",
            "  903  904  906  907  908  909  913  914  915  919  921  922  924  928\n",
            "  931  932  933  936  938  940  943  944  945  946  947  948  949  951\n",
            "  955  957  960  962  965  970  974  975  978  984  985  986  988  990\n",
            "  991  994  998 1000 1003 1005 1006 1007 1011 1012 1014 1017 1022 1023\n",
            " 1026 1027 1028 1029] No of male 550\n"
          ]
        }
      ]
    },
    {
      "cell_type": "code",
      "source": [
        "#ectract the actual and predicted outcomes for the two groups\n",
        "y_test_f = [y_test.values[i]for i in f_indicates ]\n",
        "y_test_m = [y_test.values[i]for i in m_indicates ]\n",
        "print(y_test_f)\n",
        "print(y_test_m)"
      ],
      "metadata": {
        "colab": {
          "base_uri": "https://localhost:8080/"
        },
        "id": "n29o_4Twnxc9",
        "outputId": "7e3a8a69-151a-4ddb-e435-ac00015bd5c6"
      },
      "execution_count": null,
      "outputs": [
        {
          "output_type": "stream",
          "name": "stdout",
          "text": [
            "[0, 0, 0, 0, 1, 0, 0, 0, 0, 0, 0, 0, 0, 0, 0, 0, 0, 0, 0, 1, 0, 0, 0, 0, 0, 0, 0, 0, 0, 1, 0, 0, 0, 0, 0, 0, 0, 1, 0, 0, 0, 0, 0, 0, 0, 0, 0, 0, 1, 1, 0, 1, 1, 0, 0, 0, 0, 0, 0, 0, 0, 0, 0, 1, 0, 0, 0, 0, 0, 0, 0, 0, 0, 0, 0, 0, 0, 0, 0, 0, 0, 0, 0, 0, 0, 0, 0, 0, 0, 0, 0, 0, 0, 0, 0, 0, 0, 0, 0, 0, 0, 0, 0, 0, 0, 0, 0, 0, 1, 0, 0, 0, 0, 0, 0, 1, 0, 0, 0, 0, 0, 0, 0, 0, 1, 0, 0, 0, 1, 1, 0, 1, 0, 0, 0, 0, 0, 0, 0, 0, 1, 0, 0, 0, 0, 0, 0, 0, 0, 0, 0, 0, 0, 0, 0, 0, 0, 0, 0, 0, 0, 0, 0, 0, 0, 0, 1, 0, 0, 0, 0, 0, 0, 0, 0, 0, 0, 0, 1, 1, 0, 0, 0, 0, 0, 0, 0, 0, 0, 0, 0, 0, 1, 1, 0, 0, 0, 0, 0, 0, 1, 0, 1, 0, 0, 0, 1, 0, 0, 0, 1, 0, 0, 0, 1, 0, 0, 0, 1, 0, 0, 0, 0, 0, 0, 0, 0, 0, 0, 0, 0, 0, 0, 0, 0, 0, 0, 1, 0, 0, 1, 0, 0, 0, 1, 0, 0, 0, 1, 0, 0, 0, 1, 0, 0, 0, 0, 0, 0, 0, 0, 0, 0, 1, 1, 0, 0, 0, 0, 0, 0, 0, 0, 1, 0, 0, 0, 1, 0, 0, 0, 0, 0, 1, 0, 0, 0, 0, 0, 0, 0, 0, 0, 0, 0, 0, 0, 1, 0, 0, 1, 0, 0, 0, 1, 1, 0, 1, 0, 0, 0, 0, 1, 0, 0, 0, 1, 0, 0, 1, 0, 0, 1, 1, 0, 1, 1, 0, 0, 0, 0, 0, 0, 0, 0, 0, 1, 0, 0, 0, 0, 0, 0, 0, 0, 0, 1, 0, 0, 0, 0, 0, 0, 0, 0, 0, 0, 0, 0, 1, 0, 1, 1, 0, 0, 0, 0, 0, 0, 0, 0, 0, 0, 0, 0, 0, 1, 0, 0, 0, 0, 0, 1, 0, 1, 0, 0, 0, 0, 0, 0, 0, 0, 0, 0, 0, 0, 0, 0, 1, 0, 0, 0, 0, 0, 0, 0, 0, 1, 0, 0, 0, 0, 0, 0, 0, 0, 0, 0, 0, 0, 1, 0, 0, 0, 0, 0, 0, 0, 1, 0, 1, 1, 0, 0, 0, 0, 0, 0, 1, 1, 0, 0, 0, 0, 0, 0, 0, 0, 0, 0, 1, 0, 0, 0, 1, 0, 0, 0, 1, 0, 0, 0, 0, 0, 0, 0, 0, 0, 0, 0, 0, 0, 0, 0, 0, 0, 0, 0, 0]\n",
            "[0, 0, 1, 0, 1, 0, 1, 0, 0, 0, 0, 0, 0, 0, 0, 0, 0, 0, 0, 0, 0, 0, 0, 0, 0, 0, 1, 0, 0, 0, 0, 0, 0, 0, 1, 0, 0, 0, 0, 0, 1, 0, 0, 0, 0, 1, 0, 0, 0, 0, 0, 0, 0, 1, 0, 0, 1, 0, 0, 1, 1, 0, 1, 1, 0, 0, 0, 1, 0, 0, 0, 0, 0, 0, 0, 0, 0, 1, 0, 0, 0, 0, 0, 0, 0, 0, 0, 0, 0, 0, 1, 0, 0, 0, 0, 0, 1, 0, 0, 0, 0, 0, 0, 1, 0, 0, 0, 0, 0, 0, 1, 0, 0, 0, 1, 0, 0, 0, 1, 0, 1, 1, 1, 0, 0, 0, 0, 0, 0, 0, 0, 0, 0, 0, 0, 0, 0, 1, 0, 0, 1, 0, 0, 0, 1, 0, 1, 0, 0, 0, 1, 1, 0, 0, 0, 0, 0, 0, 0, 0, 0, 1, 1, 0, 0, 0, 0, 0, 0, 1, 0, 0, 0, 0, 0, 1, 0, 0, 0, 0, 0, 0, 0, 1, 0, 0, 0, 0, 1, 0, 0, 0, 0, 0, 0, 0, 0, 0, 1, 0, 0, 1, 0, 1, 0, 0, 0, 0, 0, 0, 0, 1, 1, 0, 1, 0, 0, 0, 0, 1, 0, 0, 0, 1, 0, 0, 0, 0, 0, 1, 0, 0, 0, 0, 0, 0, 0, 1, 0, 0, 0, 0, 0, 0, 0, 0, 0, 0, 0, 0, 0, 1, 0, 1, 0, 0, 1, 0, 0, 0, 0, 0, 0, 1, 0, 0, 0, 0, 0, 0, 0, 1, 0, 0, 1, 0, 1, 1, 0, 0, 0, 0, 0, 1, 0, 0, 0, 0, 0, 0, 0, 0, 1, 1, 0, 0, 1, 0, 0, 1, 0, 0, 0, 0, 0, 0, 0, 0, 0, 0, 0, 0, 0, 1, 1, 0, 1, 0, 0, 0, 0, 1, 1, 1, 0, 0, 0, 0, 0, 0, 0, 0, 1, 0, 0, 1, 0, 1, 0, 1, 0, 0, 0, 0, 0, 0, 0, 0, 0, 0, 0, 1, 0, 0, 0, 0, 0, 1, 0, 0, 0, 0, 0, 1, 0, 0, 0, 0, 0, 0, 1, 0, 0, 0, 0, 0, 0, 0, 0, 0, 0, 0, 0, 1, 0, 0, 0, 0, 0, 0, 0, 0, 0, 0, 0, 0, 1, 0, 0, 0, 0, 0, 0, 0, 0, 0, 0, 0, 0, 0, 0, 0, 1, 0, 0, 0, 0, 0, 0, 0, 0, 0, 1, 0, 0, 0, 0, 1, 0, 0, 0, 0, 0, 1, 0, 0, 0, 0, 0, 0, 0, 1, 1, 0, 0, 0, 0, 0, 0, 0, 0, 0, 0, 0, 0, 0, 1, 0, 0, 0, 0, 0, 0, 1, 0, 0, 0, 0, 0, 0, 0, 0, 0, 0, 0, 0, 0, 0, 1, 0, 0, 0, 1, 0, 1, 0, 0, 0, 0, 0, 0, 0, 0, 1, 0, 0, 0, 0, 0, 0, 1, 0, 0, 0, 1, 0, 0, 1, 0, 1, 1, 0, 0, 0, 0, 0, 0, 0, 0, 0, 0, 0, 0, 0, 0, 0, 0, 0, 0, 0, 1, 0, 0, 0, 0, 1, 0, 0, 0, 0, 0, 0, 0, 0, 0, 0, 0, 1, 0, 0]\n"
          ]
        }
      ]
    },
    {
      "cell_type": "code",
      "source": [
        "# Creat the confusion matrix for female\n",
        "y_pred_f = [y_test_p[i] for i in f_indicates]\n",
        "cm_y = metrics.confusion_matrix(y_test_f, y_pred_f)\n",
        "TN, FP, FN, TP =cm_y.ravel()\n",
        "print(\"TN={0}, FP={1}, FN={2}, TP={3}\".format(TN, FP,FN, TP))\n",
        "disp = metrics.ConfusionMatrixDisplay(confusion_matrix=cm_y)\n",
        "disp.plot()\n",
        "plt.show()"
      ],
      "metadata": {
        "colab": {
          "base_uri": "https://localhost:8080/",
          "height": 467
        },
        "id": "9ZMJk3DwqhI1",
        "outputId": "9e22a14e-0cd3-4a3f-ef19-5aeac87f1259"
      },
      "execution_count": null,
      "outputs": [
        {
          "output_type": "stream",
          "name": "stdout",
          "text": [
            "TN=408, FP=4, FN=10, TP=58\n"
          ]
        },
        {
          "output_type": "display_data",
          "data": {
            "text/plain": [
              "<Figure size 640x480 with 2 Axes>"
            ],
            "image/png": "[encoded data removed]"
          },
          "metadata": {}
        }
      ]
    },
    {
      "cell_type": "code",
      "source": [
        "# create the confussion metrix for males\n",
        "y_pred_m = [y_test_p[i] for i in m_indicates]\n",
        "cm_m = metrics.confusion_matrix(y_test_m, y_pred_m)\n",
        "TN, FP, FN, TP =cm_m.ravel()\n",
        "print(\"TN={0}, FP={1}, FN={2}, TP={3}\".format(TN, FP,FN, TP))\n",
        "disp = metrics.ConfusionMatrixDisplay(confusion_matrix=cm_m)\n",
        "disp.plot()\n",
        "plt.show()"
      ],
      "metadata": {
        "colab": {
          "base_uri": "https://localhost:8080/",
          "height": 472
        },
        "id": "98cYJmjctriK",
        "outputId": "9bf17a39-3427-454f-9840-b57e029ad500"
      },
      "execution_count": null,
      "outputs": [
        {
          "output_type": "stream",
          "name": "stdout",
          "text": [
            "TN=451, FP=4, FN=8, TP=87\n"
          ]
        },
        {
          "output_type": "display_data",
          "data": {
            "text/plain": [
              "<Figure size 640x480 with 2 Axes>"
            ],
            "image/png": "[encoded data removed]"
          },
          "metadata": {}
        }
      ]
    },
    {
      "cell_type": "code",
      "source": [
        "# calculate accuracy , recall , precision for males\n",
        "print(\"Males\")\n",
        "print(classification_report(y_test_m, y_pred_m))\n",
        "print(metrics.accuracy_score(y_test_m, y_pred_m))\n",
        "accuracy_m =metrics.accuracy_score(y_test_m, y_pred_m)\n",
        "precision_m = metrics.precision_score(y_test_m, y_pred_m)\n",
        "recall_m = metrics.recall_score(y_test_m, y_pred_m)\n",
        "print(\"precision\", precision_m)\n",
        "print(\"recall\" , recall_m)\n",
        "print(\"accuracy\" , accuracy_m)"
      ],
      "metadata": {
        "colab": {
          "base_uri": "https://localhost:8080/"
        },
        "id": "ZibuwbupwDDN",
        "outputId": "2125c3f7-1718-49ce-b0eb-64a8a809121f"
      },
      "execution_count": null,
      "outputs": [
        {
          "output_type": "stream",
          "name": "stdout",
          "text": [
            "MIDDLE\n",
            "              precision    recall  f1-score   support\n",
            "\n",
            "           0       0.98      0.99      0.99       455\n",
            "           1       0.96      0.92      0.94        95\n",
            "\n",
            "    accuracy                           0.98       550\n",
            "   macro avg       0.97      0.95      0.96       550\n",
            "weighted avg       0.98      0.98      0.98       550\n",
            "\n",
            "0.9781818181818182\n",
            "precision 0.9560439560439561\n",
            "recall 0.9157894736842105\n",
            "accuracy 0.9781818181818182\n"
          ]
        }
      ]
    },
    {
      "cell_type": "code",
      "source": [
        "#create the confussion metrix for females\n",
        "print(\"Female\")\n",
        "print(classification_report(y_test_f, y_pred_f))\n",
        "print(metrics.accuracy_score(y_test_f, y_pred_f))\n",
        "accuracy = metrics.accuracy_score(y_test_f, y_pred_f)\n",
        "precision = metrics.precision_score(y_test_f, y_pred_f)\n",
        "recall = metrics.recall_score(y_test_f, y_pred_f)\n",
        "print(\"precision\", precision)\n",
        "print(\"recall\" , recall)"
      ],
      "metadata": {
        "id": "CaH9MpMfwkLr",
        "colab": {
          "base_uri": "https://localhost:8080/"
        },
        "outputId": "656ecbb9-5235-4f24-9ea8-f8274af9ac7b"
      },
      "execution_count": null,
      "outputs": [
        {
          "output_type": "stream",
          "name": "stdout",
          "text": [
            "Young\n",
            "              precision    recall  f1-score   support\n",
            "\n",
            "           0       0.98      0.99      0.98       412\n",
            "           1       0.94      0.85      0.89        68\n",
            "\n",
            "    accuracy                           0.97       480\n",
            "   macro avg       0.96      0.92      0.94       480\n",
            "weighted avg       0.97      0.97      0.97       480\n",
            "\n",
            "0.9708333333333333\n",
            "precision 0.9354838709677419\n",
            "recall 0.8529411764705882\n"
          ]
        }
      ]
    },
    {
      "cell_type": "code",
      "source": [
        "# creat the confusion matrix for males and females\n",
        "cm_f = metrics.confusion_matrix(y_test_f, y_pred_f)\n",
        "cm_m = metrics.confusion_matrix(y_test_m, y_pred_m)\n",
        "# calculate the eaqual accuracy , demographic parity, eaqual opportunity\n",
        "DP_f = np.sum(y_pred_f) / len(y_pred_f)\n",
        "DP_m = np.sum(y_pred_m) / len(y_pred_m)\n",
        "acc_f =metrics.accuracy_score(y_test_f, y_pred_f)\n",
        "acc_m =metrics.accuracy_score(y_test_m, y_pred_m)\n",
        "TPR_f = cm_f[1, 1] / (cm_f[1, 1] + cm_f[1, 0])\n",
        "TPR_m = cm_m[1, 1] / (cm_m[1, 1] + cm_m[1, 0])\n",
        "print(\"Demographic Parity (Female):\", DP_f)\n",
        "print(\"Demographic Parity (Male):\", DP_m)\n",
        "print(\"Accuracy score (Female):\", acc_f)\n",
        "print(\"Accuracy score (Male):\", acc_m)\n",
        "print(\"Equal Opportunity (Female):\", TPR_f)\n",
        "print(\"Equal Opportunity (Male):\", TPR_m)\n",
        "disp_f = metrics.ConfusionMatrixDisplay(confusion_matrix=cm_f)\n",
        "TN, FP, FN, TP =cm_f.ravel()\n",
        "print(\"TN={0}, FP={1}, FN={2}, TP={3}\".format(TN, FP,FN, TP))\n",
        "disp_f.plot()\n",
        "plt.title(\"Confusion Matrix (Female)\")\n",
        "plt.show()\n",
        "\n",
        "disp_m = metrics.ConfusionMatrixDisplay(confusion_matrix=cm_m)\n",
        "TN, FP, FN, TP = cm_m.ravel()\n",
        "print(\"TN={0}, FP={1}, FN={2}, TP={3}\".format(TN, FP,FN, TP))\n",
        "disp_m.plot()\n",
        "plt.title(\"Confusion Matrix (Male)\")\n",
        "plt.show()\n"
      ],
      "metadata": {
        "colab": {
          "base_uri": "https://localhost:8080/",
          "height": 1000
        },
        "id": "jcEzGn5ZSdDL",
        "outputId": "236fe5b6-b117-4469-cf24-e141aad3356a"
      },
      "execution_count": null,
      "outputs": [
        {
          "output_type": "stream",
          "name": "stdout",
          "text": [
            "Demographic Parity (Female): 0.12916666666666668\n",
            "Demographic Parity (Male): 0.16545454545454547\n",
            "Accuracy score (Female): 0.9708333333333333\n",
            "Accuracy score (Male): 0.9781818181818182\n",
            "Equal Opportunity (Female): 0.8529411764705882\n",
            "Equal Opportunity (Male): 0.9157894736842105\n",
            "TN=408, FP=4, FN=10, TP=58\n"
          ]
        },
        {
          "output_type": "display_data",
          "data": {
            "text/plain": [
              "<Figure size 640x480 with 2 Axes>"
            ],
            "image/png": "[encoded data removed]"
          },
          "metadata": {}
        },
        {
          "output_type": "stream",
          "name": "stdout",
          "text": [
            "TN=451, FP=4, FN=8, TP=87\n"
          ]
        },
        {
          "output_type": "display_data",
          "data": {
            "text/plain": [
              "<Figure size 640x480 with 2 Axes>"
            ],
            "image/png": "[encoded data removed]"
          },
          "metadata": {}
        }
      ]
    },
    {
      "cell_type": "code",
      "source": [
        "# creat the  bar chart with distibution females and males metrics\n",
        "measures = [accuracy_m, precision_m, recall_m ]\n",
        "name= [\"Accuracy\", \"Precesion\", \"Recall\",]\n",
        "measure_test = [accuracy, precision, recall]\n",
        "data_measure = pd.DataFrame({\n",
        "    'Measure': name,\n",
        "    'Female':measures,\n",
        "    'Male': measure_test\n",
        "})\n",
        "data_measure.set_index('Measure', inplace=True)\n",
        "data_measure.plot(kind='bar', figsize=(10, 6))\n",
        "plt.xlabel('Measure')\n",
        "plt.ylabel('Score')\n",
        "plt.xticks(rotation=45)\n",
        "plt.grid(axis='y')\n",
        "plt.legend(title='Dataset')\n",
        "plt.show()"
      ],
      "metadata": {
        "colab": {
          "base_uri": "https://localhost:8080/",
          "height": 439
        },
        "id": "sLwS7JoZ_zKX",
        "outputId": "41e91ffd-21af-44c8-e4f8-75211fb9b5ed"
      },
      "execution_count": null,
      "outputs": [
        {
          "output_type": "display_data",
          "data": {
            "text/plain": [
              "<Figure size 1000x600 with 1 Axes>"
            ],
            "image/png": "[encoded data removed]"
          },
          "metadata": {}
        }
      ]
    }
  ]
}